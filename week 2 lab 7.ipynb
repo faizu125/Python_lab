{
 "cells": [
  {
   "cell_type": "markdown",
   "id": "27eaac99-7a72-40b6-b154-473ce8ef3722",
   "metadata": {},
   "source": [
    "##  Module 2 lab 7"
   ]
  },
  {
   "cell_type": "markdown",
   "id": "85218fee-4f10-4b6e-b0b4-1008d7065062",
   "metadata": {},
   "source": [
    "## Q1 Create a Numpy array with numbers 1 to 101"
   ]
  },
  {
   "cell_type": "code",
   "execution_count": 7,
   "id": "4ac110d3-67a3-40c2-b9e0-a7bdfbeff04d",
   "metadata": {},
   "outputs": [
    {
     "name": "stdout",
     "output_type": "stream",
     "text": [
      "[  1   2   3   4   5   6   7   8   9  10  11  12  13  14  15  16  17  18\n",
      "  19  20  21  22  23  24  25  26  27  28  29  30  31  32  33  34  35  36\n",
      "  37  38  39  40  41  42  43  44  45  46  47  48  49  50  51  52  53  54\n",
      "  55  56  57  58  59  60  61  62  63  64  65  66  67  68  69  70  71  72\n",
      "  73  74  75  76  77  78  79  80  81  82  83  84  85  86  87  88  89  90\n",
      "  91  92  93  94  95  96  97  98  99 100]\n"
     ]
    }
   ],
   "source": [
    "import numpy as np\n",
    "\n",
    "num = np.arange(1, 101)\n",
    "print(num)"
   ]
  },
  {
   "cell_type": "markdown",
   "id": "6fbfcff8-bb70-42bc-a01a-a77556d67b04",
   "metadata": {},
   "source": [
    "## Q2 Reshape the array into a 10,10 array"
   ]
  },
  {
   "cell_type": "code",
   "execution_count": 17,
   "id": "5e654215-61e9-4c36-925e-cdaca59e2b13",
   "metadata": {},
   "outputs": [
    {
     "name": "stdout",
     "output_type": "stream",
     "text": [
      "[[  1   2   3   4   5   6   7   8   9  10]\n",
      " [ 11  12  13  14  15  16  17  18  19  20]\n",
      " [ 21  22  23  24  25  26  27  28  29  30]\n",
      " [ 31  32  33  34  35  36  37  38  39  40]\n",
      " [ 41  42  43  44  45  46  47  48  49  50]\n",
      " [ 51  52  53  54  55  56  57  58  59  60]\n",
      " [ 61  62  63  64  65  66  67  68  69  70]\n",
      " [ 71  72  73  74  75  76  77  78  79  80]\n",
      " [ 81  82  83  84  85  86  87  88  89  90]\n",
      " [ 91  92  93  94  95  96  97  98  99 100]]\n"
     ]
    }
   ],
   "source": [
    "import numpy as np\n",
    "\n",
    "arr= np.arange(1 , 101)\n",
    "arr_reshaped = arr.reshape(10,10)\n",
    "print(arr_reshaped)"
   ]
  },
  {
   "cell_type": "markdown",
   "id": "48e87e67-3e3b-46dd-8c26-2a96ccf3c449",
   "metadata": {},
   "source": [
    "##  Q3 Calculate the sum of each row "
   ]
  },
  {
   "cell_type": "code",
   "execution_count": 31,
   "id": "d99ea6a2-3e7f-4be5-bd85-966a7ca4db14",
   "metadata": {},
   "outputs": [
    {
     "name": "stdout",
     "output_type": "stream",
     "text": [
      "[ 55 155 255 355 455 555 655 755 855 955]\n"
     ]
    }
   ],
   "source": [
    "import numpy as np\n",
    "\n",
    "row_sums = np.sum(arr_reshaped, axis=1)\n",
    "print(row_sums)"
   ]
  },
  {
   "cell_type": "markdown",
   "id": "a81114a4-dd46-4ef8-9105-0d9ee12ef6ba",
   "metadata": {},
   "source": [
    "## Q4 Find the row with the maximum sum"
   ]
  },
  {
   "cell_type": "code",
   "execution_count": 32,
   "id": "ba40114f-e3ce-44fd-9214-05aacc2aa455",
   "metadata": {},
   "outputs": [
    {
     "name": "stdout",
     "output_type": "stream",
     "text": [
      "Array:\n",
      "[[  1   2   3   4   5   6   7   8   9  10]\n",
      " [ 11  12  13  14  15  16  17  18  19  20]\n",
      " [ 21  22  23  24  25  26  27  28  29  30]\n",
      " [ 31  32  33  34  35  36  37  38  39  40]\n",
      " [ 41  42  43  44  45  46  47  48  49  50]\n",
      " [ 51  52  53  54  55  56  57  58  59  60]\n",
      " [ 61  62  63  64  65  66  67  68  69  70]\n",
      " [ 71  72  73  74  75  76  77  78  79  80]\n",
      " [ 81  82  83  84  85  86  87  88  89  90]\n",
      " [ 91  92  93  94  95  96  97  98  99 100]]\n",
      "\n",
      "Row Sums:\n",
      "[ 55 155 255 355 455 555 655 755 855 955]\n",
      "\n",
      "Row with Mamimum Sum: 9\n"
     ]
    }
   ],
   "source": [
    "import numpy as np\n",
    "max_sum_row = np.argmax(row_sums)\n",
    "\n",
    "print(\"Array:\")\n",
    "print(arr_reshaped)\n",
    "print()\n",
    "print(\"Row Sums:\")\n",
    "print(row_sums)\n",
    "print()\n",
    "print(\"Row with Mamimum Sum:\",max_sum_row)"
   ]
  },
  {
   "cell_type": "markdown",
   "id": "374705b7-2523-4dd3-aab9-63dfbcd73865",
   "metadata": {},
   "source": [
    "## Q5 Create a 2D Numpy array with dimension 5*5"
   ]
  },
  {
   "cell_type": "code",
   "execution_count": 34,
   "id": "b39e001f-3176-4c61-a4de-c763f99e020a",
   "metadata": {},
   "outputs": [
    {
     "name": "stdout",
     "output_type": "stream",
     "text": [
      "Original Array:\n",
      "[[3 9 8 1 6]\n",
      " [5 1 3 4 4]\n",
      " [4 5 3 9 3]\n",
      " [2 4 3 4 7]\n",
      " [4 9 2 4 1]]\n",
      "Mean Value\n",
      "[[3 9 8 1 6]\n",
      " [5 1 3 4 4]\n",
      " [4 5 3 9 3]\n",
      " [2 4 3 4 7]\n",
      " [4 9 2 4 1]]\n"
     ]
    }
   ],
   "source": [
    "import numpy as np\n",
    "arr = np.random.randint(1,10,(5,5))\n",
    "print(\"Original Array:\")\n",
    "print(arr)\n",
    "mean_value = np.mean(arr[:-1])\n",
    "\n",
    "print(\"Mean Value\")\n",
    "print(arr)"
   ]
  },
  {
   "cell_type": "markdown",
   "id": "4e55ae80-7437-4dc5-a081-6e4483609da6",
   "metadata": {},
   "source": [
    "# Task 1: Creating and Manipulating Arrays"
   ]
  },
  {
   "cell_type": "markdown",
   "id": "ea32cacb-c94b-4ce7-a6dc-eb841eecba0e",
   "metadata": {},
   "source": [
    "#### Task: Create different types of arrays and perform basic operations.\n",
    "#### Instructions:\n",
    "#### 1. Create an array of zeros with shape (3, 3).\n",
    "#### 2. Create an array of ones with shape (2, 4).\n",
    "#### 3. Create an array with values from 10 to 50, with a step of 10.\n",
    "#### 4. Add 5 to each element of the array created in step 3."
   ]
  },
  {
   "cell_type": "code",
   "execution_count": 38,
   "id": "b0a18353-9de0-4510-9db7-fd6626ba5135",
   "metadata": {},
   "outputs": [
    {
     "name": "stdout",
     "output_type": "stream",
     "text": [
      "[[0. 0. 0.]\n",
      " [0. 0. 0.]\n",
      " [0. 0. 0.]]\n"
     ]
    }
   ],
   "source": [
    "import numpy as np\n",
    "zeros_array = np.zeros((3,3))\n",
    "print(zeros_array)"
   ]
  },
  {
   "cell_type": "code",
   "execution_count": 40,
   "id": "b93d71aa-c9b6-4bd2-9ad6-935be8a870d8",
   "metadata": {},
   "outputs": [
    {
     "name": "stdout",
     "output_type": "stream",
     "text": [
      "[[1. 1. 1. 1.]\n",
      " [1. 1. 1. 1.]]\n"
     ]
    }
   ],
   "source": [
    "import numpy as np\n",
    "arr = np.ones((2,4))\n",
    "print(arr)"
   ]
  },
  {
   "cell_type": "code",
   "execution_count": 44,
   "id": "a75ff27b-4586-47de-9e5b-e0f648c06906",
   "metadata": {},
   "outputs": [
    {
     "name": "stdout",
     "output_type": "stream",
     "text": [
      "[10 20 30 40 50]\n"
     ]
    }
   ],
   "source": [
    "import numpy as np\n",
    "arr = np.arange(10,51 , 10)\n",
    "print(arr)"
   ]
  },
  {
   "cell_type": "code",
   "execution_count": 48,
   "id": "f655adf3-dffb-4993-9c11-57fe4bb37a5e",
   "metadata": {},
   "outputs": [
    {
     "name": "stdout",
     "output_type": "stream",
     "text": [
      "Original array:\n",
      "[10 20 30 40 50]\n",
      "\n",
      "Array after adding 5 to each element:\n",
      "[15 25 35 45 55]\n"
     ]
    }
   ],
   "source": [
    "import numpy as np\n",
    "\n",
    "array = np.arange(10, 51, 10)\n",
    "\n",
    "updated_array = array + 5\n",
    "\n",
    "print(\"Original array:\")\n",
    "print(array)\n",
    "\n",
    "print(\"\\nArray after adding 5 to each element:\")\n",
    "print(updated_array)\n"
   ]
  },
  {
   "cell_type": "markdown",
   "id": "1230acb5-d073-4b0f-99c5-80060f15cd87",
   "metadata": {},
   "source": [
    "# Task 3: Indexing and Slicing"
   ]
  },
  {
   "cell_type": "markdown",
   "id": "d5211182-a6e8-4c23-aff4-7be1cffcaf7c",
   "metadata": {},
   "source": [
    "#### Task: Practice indexing and slicing arrays.\n",
    "#### Instructions:\n",
    "#### 1. Create an array [10, 20, 30, 40, 50, 60].\n",
    "#### 2. Slice the array to get the first three elements.\n",
    "#### 3. Slice the array to get the last three elements.\n",
    "#### 4. Use advanced indexing to get the elements at indices 1, 3, and 5."
   ]
  },
  {
   "cell_type": "code",
   "execution_count": 49,
   "id": "f421d6f3-40ff-4d40-bf6a-fdbfbed2c182",
   "metadata": {},
   "outputs": [
    {
     "name": "stdout",
     "output_type": "stream",
     "text": [
      "[10 20 30 40 50 60]\n"
     ]
    }
   ],
   "source": [
    "import numpy as np\n",
    "array = np.array([10, 20, 30, 40, 50, 60])\n",
    "print(array)"
   ]
  },
  {
   "cell_type": "code",
   "execution_count": 59,
   "id": "549bbd7c-2de4-4236-89ca-afb490fe3f05",
   "metadata": {},
   "outputs": [
    {
     "name": "stdout",
     "output_type": "stream",
     "text": [
      "[10 20 30]\n"
     ]
    }
   ],
   "source": [
    "import numpy as np\n",
    "\n",
    "array = np.arange(10, 55, 10)\n",
    "\n",
    "first_three_elements = array[:3]\n",
    "\n",
    "print(first_three_elements)\n"
   ]
  },
  {
   "cell_type": "code",
   "execution_count": 63,
   "id": "8a0ab59d-d87e-41c7-a6be-0fd242e9429d",
   "metadata": {},
   "outputs": [
    {
     "name": "stdout",
     "output_type": "stream",
     "text": [
      "[30 40 50]\n"
     ]
    }
   ],
   "source": [
    "import numpy as np\n",
    "\n",
    "array = np.arange(10, 55, 10)\n",
    "\n",
    "first_last_elements = array[-3:]\n",
    "\n",
    "print(first_last_elements)"
   ]
  },
  {
   "cell_type": "code",
   "execution_count": 68,
   "id": "8ba2b02a-3b26-4ca4-9250-3779b0700bf9",
   "metadata": {},
   "outputs": [
    {
     "ename": "IndexError",
     "evalue": "index 5 is out of bounds for axis 0 with size 5",
     "output_type": "error",
     "traceback": [
      "\u001b[1;31m---------------------------------------------------------------------------\u001b[0m",
      "\u001b[1;31mIndexError\u001b[0m                                Traceback (most recent call last)",
      "Cell \u001b[1;32mIn[68], line 6\u001b[0m\n\u001b[0;32m      3\u001b[0m array \u001b[38;5;241m=\u001b[39m np\u001b[38;5;241m.\u001b[39marange(\u001b[38;5;241m10\u001b[39m, \u001b[38;5;241m51\u001b[39m, \u001b[38;5;241m10\u001b[39m)\n\u001b[0;32m      5\u001b[0m indices \u001b[38;5;241m=\u001b[39m [\u001b[38;5;241m1\u001b[39m, \u001b[38;5;241m3\u001b[39m, \u001b[38;5;241m5\u001b[39m]\n\u001b[1;32m----> 6\u001b[0m selected_elements \u001b[38;5;241m=\u001b[39m array[indices]\n\u001b[0;32m      8\u001b[0m \u001b[38;5;28mprint\u001b[39m(selected_elements)\n",
      "\u001b[1;31mIndexError\u001b[0m: index 5 is out of bounds for axis 0 with size 5"
     ]
    }
   ],
   "source": [
    "import numpy as np\n",
    "\n",
    "array = np.arange(10, 51, 10)\n",
    "\n",
    "indices = [1, 3, 5]\n",
    "selected_elements = array[indices]\n",
    "\n",
    "print(selected_elements)\n"
   ]
  },
  {
   "cell_type": "markdown",
   "id": "5bc15e59-e262-4719-86ae-7705114ad837",
   "metadata": {},
   "source": [
    "# Task 4: Array Shape and Reshape"
   ]
  },
  {
   "cell_type": "markdown",
   "id": "0b7ea4b0-0155-4252-9cde-538dabb9fd5e",
   "metadata": {},
   "source": [
    "#### Task 4: Array Shape and Reshape\n",
    "#### Task: Reshape arrays and explore different shapes.\n",
    "#### Instructions:\n",
    "#### 1. Create an array with values from 1 to 12.\n",
    "#### 2. Reshape it into a 3x4 matrix.\n",
    "#### 3. Reshape the same array into a 2x6 matrix.\n",
    "#### 4. Flatten the reshaped 3x4 matrix back into a 1D array."
   ]
  },
  {
   "cell_type": "code",
   "execution_count": 71,
   "id": "f8122de6-8b3e-4e47-a61c-cddabe64d52e",
   "metadata": {},
   "outputs": [
    {
     "name": "stdout",
     "output_type": "stream",
     "text": [
      "[ 1  2  3  4  5  6  7  8  9 10 11 12]\n"
     ]
    }
   ],
   "source": [
    "import numpy as np\n",
    "array = np.array([1,2,3,4,5,6,7,8,9,10,11,12])\n",
    "print(array)"
   ]
  },
  {
   "cell_type": "code",
   "execution_count": 76,
   "id": "a64bba5f-cced-41b7-b6dc-fd777165750b",
   "metadata": {},
   "outputs": [
    {
     "name": "stdout",
     "output_type": "stream",
     "text": [
      "[[ 1  2  3  4]\n",
      " [ 5  6  7  8]\n",
      " [ 9 10 11 12]]\n"
     ]
    }
   ],
   "source": [
    "import numpy as np\n",
    "matrix = np.arange(1, 13)\n",
    "matrix_reshaped = matrix.reshape(3,4)\n",
    "print(matrix_reshaped)"
   ]
  },
  {
   "cell_type": "code",
   "execution_count": 77,
   "id": "22b1bc36-e984-4ac7-92d5-8c2a0900a2a8",
   "metadata": {},
   "outputs": [
    {
     "name": "stdout",
     "output_type": "stream",
     "text": [
      "[[ 1  2  3  4  5  6]\n",
      " [ 7  8  9 10 11 12]]\n"
     ]
    }
   ],
   "source": [
    "import numpy as np\n",
    "matrix = np.arange(1, 13)\n",
    "matrix_reshaped = matrix.reshape(2,6)\n",
    "print(matrix_reshaped)"
   ]
  },
  {
   "cell_type": "code",
   "execution_count": 81,
   "id": "6ece1da8-c7a0-47fb-88e8-ccd85eebc6d8",
   "metadata": {},
   "outputs": [
    {
     "name": "stdout",
     "output_type": "stream",
     "text": [
      "[ 1  2  3  4  5  6  7  8  9 10 11 12]\n"
     ]
    }
   ],
   "source": [
    "import numpy as np\n",
    "matrix = np.arange(1, 13)\n",
    "reshaped_matrix = matrix.reshape(3,4)\n",
    "flattened_matrix = reshaped_matrix.flatten()\n",
    "\n",
    "print(flattened_matrix)"
   ]
  },
  {
   "cell_type": "markdown",
   "id": "f4f4137c-d42f-4220-a963-08f062b91ac8",
   "metadata": {},
   "source": [
    "# Task 6: Mathematical Operations"
   ]
  },
  {
   "cell_type": "markdown",
   "id": "d5d42747-8cd9-43fe-b27f-0a281686b6ab",
   "metadata": {},
   "source": [
    "#### Task: Perform mathematical operations on arrays.\n",
    "#### Instructions:\n",
    "#### 1. Create an array [10, 20, 30, 40, 50].\n",
    "#### 2. Calculate the sum of all elements.\n",
    "#### 3. Calculate the mean of the array.\n",
    "#### 4. Find the standard deviation."
   ]
  },
  {
   "cell_type": "code",
   "execution_count": 3,
   "id": "4feeb824-4b18-4426-ae95-a05fb8dd4b49",
   "metadata": {},
   "outputs": [
    {
     "name": "stdout",
     "output_type": "stream",
     "text": [
      "[10 20 30 40 50]\n"
     ]
    }
   ],
   "source": [
    "import numpy as np\n",
    "array = np.array([10,20,30,40,50])\n",
    "print(array)"
   ]
  },
  {
   "cell_type": "code",
   "execution_count": 8,
   "id": "e0c651d2-a3a6-4564-842f-5445e978627d",
   "metadata": {},
   "outputs": [
    {
     "name": "stdout",
     "output_type": "stream",
     "text": [
      "Sum: 150\n"
     ]
    }
   ],
   "source": [
    "import numpy as np\n",
    "array = np.sum([10,20,30,40,50])\n",
    "total_sum = np.sum(array)\n",
    "print(f\"Sum: {total_sum}\")"
   ]
  },
  {
   "cell_type": "code",
   "execution_count": 10,
   "id": "eb6ffa41-5a39-4c43-92b5-0e11d1d920f6",
   "metadata": {},
   "outputs": [
    {
     "name": "stdout",
     "output_type": "stream",
     "text": [
      "mean: 30.0\n"
     ]
    }
   ],
   "source": [
    "import numpy as np\n",
    "array = np.mean([10,20,30,40,50])\n",
    "total_mean = np.mean(array)\n",
    "print(f\"mean: {total_mean}\")"
   ]
  },
  {
   "cell_type": "code",
   "execution_count": 11,
   "id": "68e47c33-7678-4997-8d2a-cc5310f7fc3a",
   "metadata": {},
   "outputs": [
    {
     "name": "stdout",
     "output_type": "stream",
     "text": [
      "Standard Deviation: 0.0\n"
     ]
    }
   ],
   "source": [
    "import numpy as np\n",
    "array = np.std([10,20,30,40,50])\n",
    "std_deviation = np.std(array)\n",
    "print(f\"Standard Deviation: {std_deviation}\")"
   ]
  },
  {
   "cell_type": "markdown",
   "id": "eb9a68cd-2a21-4b6c-b2f4-42b4e3f303da",
   "metadata": {},
   "source": [
    "# Linear Algebra Operations"
   ]
  },
  {
   "cell_type": "markdown",
   "id": "600191e8-f2d7-492f-ae3b-6a47a09698cd",
   "metadata": {},
   "source": [
    "#### Task: Perform linear algebra operations using NumPy.\n",
    "#### Instructions:\n",
    "#### 1. Create a 2x2 matrix [[1, 2], [3, 4]].\n",
    "#### 2. Calculate its transpose.\n",
    "#### 3. Perform matrix multiplication of the matrix with its transpose.\n",
    "#### 4. Find the determinant of the matrix."
   ]
  },
  {
   "cell_type": "code",
   "execution_count": 1,
   "id": "0f82ef31-a6e1-4117-989f-58a73c26090a",
   "metadata": {},
   "outputs": [
    {
     "name": "stdout",
     "output_type": "stream",
     "text": [
      "[[1 2]\n",
      " [3 4]]\n"
     ]
    }
   ],
   "source": [
    "import numpy as np\n",
    "matrix = np.array([[1, 2], [3, 4]])\n",
    "print(matrix)"
   ]
  },
  {
   "cell_type": "code",
   "execution_count": 2,
   "id": "2c9e47d5-3f65-4e32-9e84-42f39008db28",
   "metadata": {},
   "outputs": [
    {
     "name": "stdout",
     "output_type": "stream",
     "text": [
      "[[1 3]\n",
      " [2 4]]\n"
     ]
    }
   ],
   "source": [
    "import numpy as np\n",
    "transpose = np.transpose(matrix)\n",
    "print(transpose)"
   ]
  },
  {
   "cell_type": "code",
   "execution_count": 3,
   "id": "1f370831-3b16-4f9f-a2f7-bc339363c46b",
   "metadata": {},
   "outputs": [
    {
     "name": "stdout",
     "output_type": "stream",
     "text": [
      "[[ 5 11]\n",
      " [11 25]]\n"
     ]
    }
   ],
   "source": [
    "import numpy as np\n",
    "multiplication = np.matmul(matrix, transpose)\n",
    "print(multiplication)"
   ]
  },
  {
   "cell_type": "code",
   "execution_count": 4,
   "id": "a11e18cf-260e-4dc0-a4c0-8cd44cb1036e",
   "metadata": {},
   "outputs": [
    {
     "name": "stdout",
     "output_type": "stream",
     "text": [
      "-2.0000000000000004\n"
     ]
    }
   ],
   "source": [
    "import numpy as np\n",
    "determinant = np.linalg.det(matrix) \n",
    "print(determinant)"
   ]
  },
  {
   "cell_type": "markdown",
   "id": "ab52cbcf-d447-4c0d-a8f3-e074f82f9431",
   "metadata": {},
   "source": [
    "# Random Number Generation"
   ]
  },
  {
   "cell_type": "markdown",
   "id": "c4dbd1fa-da74-409c-8d93-e20b3cca847d",
   "metadata": {},
   "source": [
    "#### Task: Generate random numbers and analyze the distribution.\n",
    "#### Instructions:\n",
    "#### 1. Generate a random array of shape (2, 3) with values between 0 and 1.\n",
    "#### 2.Generate a random array of 1000 elements following a normal distribution with mean 0 and standard deviation 1.\n",
    "#### 3. Plot the histogram of the normal distribution.\n"
   ]
  },
  {
   "cell_type": "code",
   "execution_count": 11,
   "id": "2ca0f773-d555-4aa5-94c3-e2b27274dc96",
   "metadata": {},
   "outputs": [
    {
     "name": "stdout",
     "output_type": "stream",
     "text": [
      "Random array (2x3):\n",
      "[[0.19427558 0.95814138 0.20898156]\n",
      " [0.5008092  0.0163958  0.18970539]]\n"
     ]
    },
    {
     "data": {
      "image/png": "[encoded data removed]",
      "text/plain": [
       "<Figure size 640x480 with 1 Axes>"
      ]
     },
     "metadata": {},
     "output_type": "display_data"
    }
   ],
   "source": [
    "import numpy as np\n",
    "import matplotlib.pyplot as plt\n",
    "\n",
    "random_array_2x3 = np.random.rand(2, 3)\n",
    "print(\"Random array (2x3):\")\n",
    "print(random_array_2x3)\n",
    "\n",
    "normal_array = np.random.normal(loc=0, scale=1, size=1000)\n",
    "\n",
    "# Plot the histogram of the normal distribution\n",
    "plt.hist(normal_array, bins=30, edgecolor='black', alpha=0.7)\n",
    "plt.title('Histogram of Normal Distribution')\n",
    "plt.xlabel('Value')\n",
    "plt.ylabel('Frequency')\n",
    "plt.show()\n"
   ]
  },
  {
   "cell_type": "code",
   "execution_count": null,
   "id": "002d94b4-2727-48dc-819a-759f53e8ed25",
   "metadata": {},
   "outputs": [],
   "source": []
  }
 ],
 "metadata": {
  "kernelspec": {
   "display_name": "Python 3 (ipykernel)",
   "language": "python",
   "name": "python3"
  },
  "language_info": {
   "codemirror_mode": {
    "name": "ipython",
    "version": 3
   },
   "file_extension": ".py",
   "mimetype": "text/x-python",
   "name": "python",
   "nbconvert_exporter": "python",
   "pygments_lexer": "ipython3",
   "version": "3.12.4"
  }
 },
 "nbformat": 4,
 "nbformat_minor": 5
}

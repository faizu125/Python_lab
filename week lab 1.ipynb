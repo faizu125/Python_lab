{
 "cells": [
  {
   "cell_type": "markdown",
   "metadata": {
    "id": "sSZict5abtal"
   },
   "source": [
    "# Lab Tasks"
   ]
  },
  {
   "cell_type": "markdown",
   "metadata": {
    "id": "M7Zc4wD-cPYO"
   },
   "source": [
    "# write a program in jupter notebook ,that prints on screen the message Hello,World."
   ]
  },
  {
   "cell_type": "code",
   "execution_count": null,
   "metadata": {
    "colab": {
     "base_uri": "https://localhost:8080/"
    },
    "id": "enRN8z7Wcqkn",
    "outputId": "ca1b5250-4923-46bf-cdba-ce5ec99c470d"
   },
   "outputs": [
    {
     "name": "stdout",
     "output_type": "stream",
     "text": [
      "Hello,World\n"
     ]
    }
   ],
   "source": [
    "print(\"Hello,World\")"
   ]
  },
  {
   "cell_type": "markdown",
   "metadata": {
    "id": "_GZ_SNvFdQk1"
   },
   "source": [
    "# using the program in (1),whta happens if we remove the closing quatation around the text Hello, World."
   ]
  },
  {
   "cell_type": "markdown",
   "metadata": {
    "id": "sWq2VumMc6Nb"
   },
   "source": []
  },
  {
   "cell_type": "code",
   "execution_count": 2,
   "metadata": {
    "colab": {
     "base_uri": "https://localhost:8080/",
     "height": 106
    },
    "id": "GdgYizrydWFg",
    "outputId": "34699c4f-b6f1-4a81-9b02-56361988d1c8"
   },
   "outputs": [
    {
     "ename": "SyntaxError",
     "evalue": "unterminated string literal (detected at line 1) (<ipython-input-2-da9133e95f89>, line 1)",
     "output_type": "error",
     "traceback": [
      "\u001b[0;36m  File \u001b[0;32m\"<ipython-input-2-da9133e95f89>\"\u001b[0;36m, line \u001b[0;32m1\u001b[0m\n\u001b[0;31m    print(\"Hello,World)\u001b[0m\n\u001b[0m          ^\u001b[0m\n\u001b[0;31mSyntaxError\u001b[0m\u001b[0;31m:\u001b[0m unterminated string literal (detected at line 1)\n"
     ]
    }
   ],
   "source": [
    "print(\"Hello,World)"
   ]
  },
  {
   "cell_type": "markdown",
   "metadata": {
    "id": "PMcl5-B0denU"
   },
   "source": [
    "# using the program in (1),what happen if we remove both the quotation around the text Hello, World? how is it different form the behaviour in 2.\n"
   ]
  },
  {
   "cell_type": "code",
   "execution_count": null,
   "metadata": {
    "colab": {
     "base_uri": "https://localhost:8080/",
     "height": 141
    },
    "id": "GYwlZXrBeSqa",
    "outputId": "ea605fa7-5708-4570-9d65-452c0ce4ce7c"
   },
   "outputs": [
    {
     "ename": "NameError",
     "evalue": "name 'Hello' is not defined",
     "output_type": "error",
     "traceback": [
      "\u001b[0;31m---------------------------------------------------------------------------\u001b[0m",
      "\u001b[0;31mNameError\u001b[0m                                 Traceback (most recent call last)",
      "\u001b[0;32m<ipython-input-3-7fbed5fc27f5>\u001b[0m in \u001b[0;36m<cell line: 1>\u001b[0;34m()\u001b[0m\n\u001b[0;32m----> 1\u001b[0;31m \u001b[0mprint\u001b[0m\u001b[0;34m(\u001b[0m\u001b[0mHello\u001b[0m\u001b[0;34m,\u001b[0m \u001b[0mWorld\u001b[0m\u001b[0;34m)\u001b[0m\u001b[0;34m\u001b[0m\u001b[0;34m\u001b[0m\u001b[0m\n\u001b[0m",
      "\u001b[0;31mNameError\u001b[0m: name 'Hello' is not defined"
     ]
    }
   ],
   "source": [
    "print(Hello, World)"
   ]
  },
  {
   "cell_type": "markdown",
   "metadata": {
    "id": "-HGGYFa0e_99"
   },
   "source": [
    "# Write a program using the print() command that produces the following output:\n",
    "          *\n",
    "          **\n",
    "    ***\n",
    "         ****\n",
    "         *****"
   ]
  },
  {
   "cell_type": "code",
   "execution_count": null,
   "metadata": {
    "colab": {
     "base_uri": "https://localhost:8080/"
    },
    "id": "8-QzdSBteIHy",
    "outputId": "929c9b8f-4daa-4472-812a-69f04c9a8439"
   },
   "outputs": [
    {
     "name": "stdout",
     "output_type": "stream",
     "text": [
      "        *\n",
      "        **  \n",
      "***\n",
      "       ****\n",
      "       *****\n"
     ]
    }
   ],
   "source": [
    "print(\"        *\")\n",
    "print(\"        **  \")\n",
    "print(\"***\")\n",
    "print(\"       ****\")\n",
    "print(\"       *****\")"
   ]
  },
  {
   "cell_type": "code",
   "execution_count": null,
   "metadata": {
    "id": "fMnZydfdcyl9"
   },
   "outputs": [],
   "source": []
  }
 ],
 "metadata": {
  "colab": {
   "provenance": []
  },
  "kernelspec": {
   "display_name": "Python 3 (ipykernel)",
   "language": "python",
   "name": "python3"
  },
  "language_info": {
   "codemirror_mode": {
    "name": "ipython",
    "version": 3
   },
   "file_extension": ".py",
   "mimetype": "text/x-python",
   "name": "python",
   "nbconvert_exporter": "python",
   "pygments_lexer": "ipython3",
   "version": "3.12.4"
  }
 },
 "nbformat": 4,
 "nbformat_minor": 4
}

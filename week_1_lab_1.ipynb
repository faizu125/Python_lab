{
  "nbformat": 4,
  "nbformat_minor": 0,
  "metadata": {
    "colab": {
      "provenance": []
    },
    "kernelspec": {
      "name": "python3",
      "display_name": "Python 3"
    },
    "language_info": {
      "name": "python"
    }
  },
  "cells": [
    {
      "cell_type": "code",
      "execution_count": null,
      "metadata": {
        "id": "sSZict5abtal"
      },
      "outputs": [],
      "source": []
    },
    {
      "cell_type": "markdown",
      "source": [
        "# write a program in jupter notebook ,that prints on screen the message Hello,World."
      ],
      "metadata": {
        "id": "M7Zc4wD-cPYO"
      }
    },
    {
      "cell_type": "code",
      "source": [
        "print(\"Hello,World\")"
      ],
      "metadata": {
        "colab": {
          "base_uri": "https://localhost:8080/"
        },
        "id": "enRN8z7Wcqkn",
        "outputId": "ca1b5250-4923-46bf-cdba-ce5ec99c470d"
      },
      "execution_count": null,
      "outputs": [
        {
          "output_type": "stream",
          "name": "stdout",
          "text": [
            "Hello,World\n"
          ]
        }
      ]
    },
    {
      "cell_type": "code",
      "source": [],
      "metadata": {
        "id": "_GZ_SNvFdQk1"
      },
      "execution_count": null,
      "outputs": []
    },
    {
      "cell_type": "markdown",
      "source": [
        "**using the program in (1),whta happens if we remove the closing quatation around the text Hello, World.**"
      ],
      "metadata": {
        "id": "sWq2VumMc6Nb"
      }
    },
    {
      "cell_type": "code",
      "source": [
        "print(\"Hello,World)"
      ],
      "metadata": {
        "colab": {
          "base_uri": "https://localhost:8080/",
          "height": 106
        },
        "id": "GdgYizrydWFg",
        "outputId": "34699c4f-b6f1-4a81-9b02-56361988d1c8"
      },
      "execution_count": 2,
      "outputs": [
        {
          "output_type": "error",
          "ename": "SyntaxError",
          "evalue": "unterminated string literal (detected at line 1) (<ipython-input-2-da9133e95f89>, line 1)",
          "traceback": [
            "\u001b[0;36m  File \u001b[0;32m\"<ipython-input-2-da9133e95f89>\"\u001b[0;36m, line \u001b[0;32m1\u001b[0m\n\u001b[0;31m    print(\"Hello,World)\u001b[0m\n\u001b[0m          ^\u001b[0m\n\u001b[0;31mSyntaxError\u001b[0m\u001b[0;31m:\u001b[0m unterminated string literal (detected at line 1)\n"
          ]
        }
      ]
    },
    {
      "cell_type": "markdown",
      "source": [
        "# using the program in (1),what happen if we remove both the quotation around the text Hello, World? how is it different form the behaviour in 2.\n"
      ],
      "metadata": {
        "id": "PMcl5-B0denU"
      }
    },
    {
      "cell_type": "code",
      "source": [
        "print(Hello, World)"
      ],
      "metadata": {
        "colab": {
          "base_uri": "https://localhost:8080/",
          "height": 141
        },
        "id": "GYwlZXrBeSqa",
        "outputId": "ea605fa7-5708-4570-9d65-452c0ce4ce7c"
      },
      "execution_count": null,
      "outputs": [
        {
          "output_type": "error",
          "ename": "NameError",
          "evalue": "name 'Hello' is not defined",
          "traceback": [
            "\u001b[0;31m---------------------------------------------------------------------------\u001b[0m",
            "\u001b[0;31mNameError\u001b[0m                                 Traceback (most recent call last)",
            "\u001b[0;32m<ipython-input-3-7fbed5fc27f5>\u001b[0m in \u001b[0;36m<cell line: 1>\u001b[0;34m()\u001b[0m\n\u001b[0;32m----> 1\u001b[0;31m \u001b[0mprint\u001b[0m\u001b[0;34m(\u001b[0m\u001b[0mHello\u001b[0m\u001b[0;34m,\u001b[0m \u001b[0mWorld\u001b[0m\u001b[0;34m)\u001b[0m\u001b[0;34m\u001b[0m\u001b[0;34m\u001b[0m\u001b[0m\n\u001b[0m",
            "\u001b[0;31mNameError\u001b[0m: name 'Hello' is not defined"
          ]
        }
      ]
    },
    {
      "cell_type": "markdown",
      "source": [
        "Write a program using the print() command that produces the following output:\n",
        "          *\n",
        "          **\n",
        "    ***\n",
        "         ****\n",
        "         *****"
      ],
      "metadata": {
        "id": "-HGGYFa0e_99"
      }
    },
    {
      "cell_type": "code",
      "source": [
        "print(\"        *\")\n",
        "print(\"        **  \")\n",
        "print(\"***\")\n",
        "print(\"       ****\")\n",
        "print(\"       *****\")"
      ],
      "metadata": {
        "id": "8-QzdSBteIHy",
        "colab": {
          "base_uri": "https://localhost:8080/"
        },
        "outputId": "929c9b8f-4daa-4472-812a-69f04c9a8439"
      },
      "execution_count": null,
      "outputs": [
        {
          "output_type": "stream",
          "name": "stdout",
          "text": [
            "        *\n",
            "        **  \n",
            "***\n",
            "       ****\n",
            "       *****\n"
          ]
        }
      ]
    },
    {
      "cell_type": "code",
      "source": [],
      "metadata": {
        "id": "fMnZydfdcyl9"
      },
      "execution_count": null,
      "outputs": []
    }
  ]
}
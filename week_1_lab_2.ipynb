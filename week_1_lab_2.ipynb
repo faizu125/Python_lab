{
  "nbformat": 4,
  "nbformat_minor": 0,
  "metadata": {
    "colab": {
      "provenance": []
    },
    "kernelspec": {
      "name": "python3",
      "display_name": "Python 3"
    },
    "language_info": {
      "name": "python"
    }
  },
  "cells": [
    {
      "cell_type": "markdown",
      "source": [
        "# 1 . ARITHMETIC OPERATIONS\n",
        "\n",
        "\n",
        "\n",
        "\n",
        "\n",
        "\n",
        "\n",
        "\n"
      ],
      "metadata": {
        "id": "6KZCMI_RjNqP"
      }
    },
    {
      "cell_type": "code",
      "source": [
        "# FOR ADDITION\n",
        "print(1+1)"
      ],
      "metadata": {
        "colab": {
          "base_uri": "https://localhost:8080/"
        },
        "id": "nQ0RbdUGjd4r",
        "outputId": "43259816-9c7b-44dc-89d5-2807428bfde2"
      },
      "execution_count": null,
      "outputs": [
        {
          "output_type": "stream",
          "name": "stdout",
          "text": [
            "2\n"
          ]
        }
      ]
    },
    {
      "cell_type": "code",
      "source": [
        "# FOR MULTIPLICATION\n",
        "print(4*77)"
      ],
      "metadata": {
        "colab": {
          "base_uri": "https://localhost:8080/"
        },
        "id": "BZasPMCKkAAE",
        "outputId": "d5efcfcc-ab93-49f3-bea4-e1c49cbc40c1"
      },
      "execution_count": null,
      "outputs": [
        {
          "output_type": "stream",
          "name": "stdout",
          "text": [
            "308\n"
          ]
        }
      ]
    },
    {
      "cell_type": "code",
      "source": [
        "# FOR INTER DIVISION DIVISION\n",
        "print(44/55)"
      ],
      "metadata": {
        "colab": {
          "base_uri": "https://localhost:8080/"
        },
        "id": "5zvjNv5Tkh2J",
        "outputId": "88238738-e923-43a7-c4a9-343f2ed90c4c"
      },
      "execution_count": null,
      "outputs": [
        {
          "output_type": "stream",
          "name": "stdout",
          "text": [
            "0.8\n"
          ]
        }
      ]
    },
    {
      "cell_type": "code",
      "source": [
        "# FOR MODULUS\n",
        "print(77%3)"
      ],
      "metadata": {
        "colab": {
          "base_uri": "https://localhost:8080/"
        },
        "id": "QOeg22xoks09",
        "outputId": "e84cf41b-9031-4b00-8543-ed55cb063eb9"
      },
      "execution_count": null,
      "outputs": [
        {
          "output_type": "stream",
          "name": "stdout",
          "text": [
            "2\n"
          ]
        }
      ]
    },
    {
      "cell_type": "code",
      "source": [
        "print(-22%5)"
      ],
      "metadata": {
        "colab": {
          "base_uri": "https://localhost:8080/"
        },
        "id": "caprXkCJk1xF",
        "outputId": "90c0448e-50a6-4da7-a385-1b3a4e92de8c"
      },
      "execution_count": null,
      "outputs": [
        {
          "output_type": "stream",
          "name": "stdout",
          "text": [
            "3\n"
          ]
        }
      ]
    },
    {
      "cell_type": "code",
      "source": [
        "# FOR SUBTRACTION\n",
        "print(55-8888)"
      ],
      "metadata": {
        "colab": {
          "base_uri": "https://localhost:8080/"
        },
        "id": "gaGhbv8Ck7jR",
        "outputId": "75a8a9de-3e7d-4523-e1ff-55d04f33896d"
      },
      "execution_count": null,
      "outputs": [
        {
          "output_type": "stream",
          "name": "stdout",
          "text": [
            "-8833\n"
          ]
        }
      ]
    },
    {
      "cell_type": "code",
      "source": [
        "# FOR EXPONENTIATION\n",
        "print(55**6)"
      ],
      "metadata": {
        "colab": {
          "base_uri": "https://localhost:8080/"
        },
        "id": "9T8Dh4ImlNu6",
        "outputId": "ba070395-05ec-424c-8b1f-4d36969fd505"
      },
      "execution_count": null,
      "outputs": [
        {
          "output_type": "stream",
          "name": "stdout",
          "text": [
            "27680640625\n"
          ]
        }
      ]
    },
    {
      "cell_type": "code",
      "source": [
        "6*-----------8"
      ],
      "metadata": {
        "colab": {
          "base_uri": "https://localhost:8080/"
        },
        "id": "vUxLO9FKlZ2N",
        "outputId": "56bc4002-9842-430f-cba4-609f91cfe89a"
      },
      "execution_count": null,
      "outputs": [
        {
          "output_type": "execute_result",
          "data": {
            "text/plain": [
              "-48"
            ]
          },
          "metadata": {},
          "execution_count": 8
        }
      ]
    },
    {
      "cell_type": "code",
      "source": [
        "8=people"
      ],
      "metadata": {
        "colab": {
          "base_uri": "https://localhost:8080/",
          "height": 106
        },
        "id": "VQKqCFNTl8Qt",
        "outputId": "512d2f1e-74ae-47a7-d714-d998d7cc572e"
      },
      "execution_count": null,
      "outputs": [
        {
          "output_type": "error",
          "ename": "SyntaxError",
          "evalue": "cannot assign to literal here. Maybe you meant '==' instead of '='? (<ipython-input-9-7522cd9525a6>, line 1)",
          "traceback": [
            "\u001b[0;36m  File \u001b[0;32m\"<ipython-input-9-7522cd9525a6>\"\u001b[0;36m, line \u001b[0;32m1\u001b[0m\n\u001b[0;31m    8=people\u001b[0m\n\u001b[0m    ^\u001b[0m\n\u001b[0;31mSyntaxError\u001b[0m\u001b[0;31m:\u001b[0m cannot assign to literal here. Maybe you meant '==' instead of '='?\n"
          ]
        }
      ]
    },
    {
      "cell_type": "code",
      "source": [
        "(((((4**3)))))"
      ],
      "metadata": {
        "colab": {
          "base_uri": "https://localhost:8080/"
        },
        "id": "kXLgAvH6mEJf",
        "outputId": "248caba2-fc4c-416a-bddc-bd1fdff36ad5"
      },
      "execution_count": null,
      "outputs": [
        {
          "output_type": "execute_result",
          "data": {
            "text/plain": [
              "64"
            ]
          },
          "metadata": {},
          "execution_count": 10
        }
      ]
    },
    {
      "cell_type": "code",
      "source": [
        "(-(-(-(-(-5)))))"
      ],
      "metadata": {
        "colab": {
          "base_uri": "https://localhost:8080/"
        },
        "id": "H0J76iPkmLZd",
        "outputId": "440ff3cd-ef2d-42a7-82b7-7804e241bd8f"
      },
      "execution_count": null,
      "outputs": [
        {
          "output_type": "execute_result",
          "data": {
            "text/plain": [
              "-5"
            ]
          },
          "metadata": {},
          "execution_count": 11
        }
      ]
    },
    {
      "cell_type": "code",
      "source": [
        "4+=7/2"
      ],
      "metadata": {
        "colab": {
          "base_uri": "https://localhost:8080/",
          "height": 106
        },
        "id": "H6UBvMW9mSA5",
        "outputId": "b2d3a71b-f1f4-468e-b21b-a368f436385a"
      },
      "execution_count": null,
      "outputs": [
        {
          "output_type": "error",
          "ename": "SyntaxError",
          "evalue": "'literal' is an illegal expression for augmented assignment (<ipython-input-12-0b25015887ab>, line 1)",
          "traceback": [
            "\u001b[0;36m  File \u001b[0;32m\"<ipython-input-12-0b25015887ab>\"\u001b[0;36m, line \u001b[0;32m1\u001b[0m\n\u001b[0;31m    4+=7/2\u001b[0m\n\u001b[0m    ^\u001b[0m\n\u001b[0;31mSyntaxError\u001b[0m\u001b[0;31m:\u001b[0m 'literal' is an illegal expression for augmented assignment\n"
          ]
        }
      ]
    },
    {
      "cell_type": "markdown",
      "source": [
        "2 .Using only the techniques you have learned so far, write a program that\n",
        "calculates the square and cube of the numbers from 0 to 10 and uses tabs to print the following table of values:\n",
        "                                        num     square      cube\n",
        "                                        0        0           0\n",
        "                                        1        1           1\n",
        "                                        2        4           8\n",
        "                                        3        9           27   \n",
        "                                        4        16          64\n",
        "                                        5        25         125\n",
        "                                        6        36         216\n",
        "                                        7        49         343\n",
        "                                        8        64         512\n",
        "                                        9        81         729\n",
        "                                        10       100        1000"
      ],
      "metadata": {
        "id": "edANPcg5m2Cg"
      }
    },
    {
      "cell_type": "code",
      "source": [
        "x=0\n",
        "print(\"num\\t square\\t cubbe\")\n",
        "print(f\"{x}\\t{x**2}\\t{x**3}\")\n",
        "x=1\n",
        "print(f\"{x}\\t{x**2}\\t{x**3}\")\n",
        "x=2\n",
        "print(f\"{x}\\t{x**2}\\t{x**3}\")\n",
        "x=3\n",
        "print(f\"{x}\\t{x**2}\\t{x**3}\")\n",
        "x=4\n",
        "print(f\"{x}\\t{x**2}\\t{x**3}\")\n",
        "x=5\n",
        "print(f\"{x}\\t{x**2}\\t{x**3}\")\n",
        "x=6\n",
        "print(f\"{x}\\t{x**2}\\t{x**3}\")\n",
        "x=7\n",
        "print(f\"{x}\\t{x**2}\\t{x**3}\")\n",
        "x=8\n",
        "print(f\"{x}\\t{x**2}\\t{x**3}\")\n",
        "x=9\n",
        "print(f\"{x}\\t{x**2}\\t{x**3}\")\n",
        "x=10\n",
        "print(f\"{x}\\t{x**2}\\t{x**3}\")"
      ],
      "metadata": {
        "colab": {
          "base_uri": "https://localhost:8080/"
        },
        "id": "7kCGSWIJoX0V",
        "outputId": "6044e2a8-7bc7-43af-e01a-29c2a53db9b3"
      },
      "execution_count": null,
      "outputs": [
        {
          "output_type": "stream",
          "name": "stdout",
          "text": [
            "num\t square\t cubbe\n",
            "0\t0\t0\n",
            "1\t1\t1\n",
            "2\t4\t8\n",
            "3\t9\t27\n",
            "4\t16\t64\n",
            "5\t25\t125\n",
            "6\t36\t216\n",
            "7\t49\t343\n",
            "8\t64\t512\n",
            "9\t81\t729\n",
            "10\t100\t1000\n"
          ]
        }
      ]
    },
    {
      "cell_type": "markdown",
      "source": [
        "BY USING WHILE LOOP WE CAN EAILY WRITE A PROGRAM FOR THIS CODE\n"
      ],
      "metadata": {
        "id": "9eYGAcy6rRSm"
      }
    },
    {
      "cell_type": "code",
      "source": [
        "print(\"num\\tsqure\\tcube\")\n",
        "x=0\n",
        "while x<=10:\n",
        "   print(f\"{x}\\t{x**2}\\t{x**3}\")\n",
        "   x+=1"
      ],
      "metadata": {
        "colab": {
          "base_uri": "https://localhost:8080/"
        },
        "id": "guE9jwYZrilD",
        "outputId": "d1807b52-a22b-493f-9741-020a026876b8"
      },
      "execution_count": null,
      "outputs": [
        {
          "output_type": "stream",
          "name": "stdout",
          "text": [
            "num\tsqure\tcube\n",
            "0\t0\t0\n",
            "1\t1\t1\n",
            "2\t4\t8\n",
            "3\t9\t27\n",
            "4\t16\t64\n",
            "5\t25\t125\n",
            "6\t36\t216\n",
            "7\t49\t343\n",
            "8\t64\t512\n",
            "9\t81\t729\n",
            "10\t100\t1000\n"
          ]
        }
      ]
    },
    {
      "cell_type": "markdown",
      "source": [
        " Q3 Write a program that print a box, an oval , an arrow , and a diamond ."
      ],
      "metadata": {
        "id": "eG6MH8_sEBTz"
      }
    },
    {
      "cell_type": "code",
      "source": [
        "print('''\n",
        "\n",
        "*********\\t             ***      \\t       *   \\t              *\n",
        "*       *\\t           *     *    \\t      ***  \\t           *     *\n",
        "*       *\\t         *         *  \\t     ***** \\t         *         *\n",
        "*       *\\t       *             *\\t       *   \\t       *             *\n",
        "*       *\\t       *             *\\t       *   \\t      *                *\n",
        "*       *\\t       *             *\\t       *   \\t       *              *\n",
        "*       *\\t       *             *\\t       *   \\t         *           *\n",
        "*       *\\t       *             *\\t       *   \\t           *        *\n",
        "*********\\t          *        *  \\t       *   \\t             *    *\n",
        "         \\t            *     *   \\t       *   \\t                *\n",
        "         \\t              ***     \\t       *   \\t\n",
        "\n",
        "\n",
        "                                                                            ''')"
      ],
      "metadata": {
        "colab": {
          "base_uri": "https://localhost:8080/"
        },
        "id": "niP37t7WEX2P",
        "outputId": "524bd80c-317d-45ba-f5c0-ad60028b2c32"
      },
      "execution_count": null,
      "outputs": [
        {
          "output_type": "stream",
          "name": "stdout",
          "text": [
            "\n",
            "\n",
            "*********\t            ***       \t       *   \t              *\n",
            "*       *\t           *     *    \t      ***  \t           *     *\n",
            "*       *\t         *         *  \t     ***** \t         *         *\n",
            "*       *\t       *             *\t       *   \t       *             *\n",
            "*       *\t       *             *\t       *   \t      *                *\n",
            "*       *\t       *             *\t       *   \t       *              *\n",
            "*       *\t       *             *\t       *   \t         *           *\n",
            "*       *\t       *             *\t       *   \t           *        *\n",
            "*********\t          *        *  \t       *   \t             *    *\n",
            "         \t            *     *   \t       *   \t                *\n",
            "         \t              ***     \t       *   \t\n",
            "\n",
            "\n",
            "                                                                            \n"
          ]
        }
      ]
    },
    {
      "cell_type": "markdown",
      "source": [
        "\n",
        " Q4 Write a program that asks the user to enter two numbers , obtain the two numbers from the user and print the sum , product  ,difference , quotient and remainder of the two numbers.**"
      ],
      "metadata": {
        "id": "tbKWvIxlKjl_"
      }
    },
    {
      "cell_type": "code",
      "source": [
        "num1, num2=input(\"enter two numbers:\").split()\n",
        "num1 , num2 =int(num1),int(num2)\n",
        "print(\"the sum is\" ,num1+num2)\n",
        "print(\"the product is \" ,num1*num2)\n",
        "print(\"the difference is\", num1-num2)\n",
        "print(\"the quotation is \" ,num1/num2)\n",
        "print(\"the remainder is \",num1%num2)\n"
      ],
      "metadata": {
        "id": "h2grDCVcsGww",
        "colab": {
          "base_uri": "https://localhost:8080/"
        },
        "outputId": "6af4a24a-2f8f-41e6-9126-b4be646fa6e0"
      },
      "execution_count": null,
      "outputs": [
        {
          "output_type": "stream",
          "name": "stdout",
          "text": [
            "enter two numbers:4 2\n",
            "the sum is 6\n",
            "the product is  8\n",
            "the difference is 2\n",
            "the quotation is  2.0\n",
            "the remainder is  0\n"
          ]
        }
      ]
    },
    {
      "cell_type": "markdown",
      "source": [
        "Q5 write a program that assign values to two variables and then swap there values**"
      ],
      "metadata": {
        "id": "wo5p7S3MauxT"
      }
    },
    {
      "cell_type": "code",
      "source": [
        "\n",
        "a = 5\n",
        "b = 10\n",
        "\n",
        "\n",
        "a, b = b, a\n",
        "\n",
        "\n",
        "print(\"a =\", a)\n",
        "print(\"b =\", b)\n",
        "\n"
      ],
      "metadata": {
        "id": "xkjbB9ZHOkky",
        "colab": {
          "base_uri": "https://localhost:8080/"
        },
        "outputId": "39c829f1-cc5f-413c-f8c3-5d7c4d4b641d"
      },
      "execution_count": 1,
      "outputs": [
        {
          "output_type": "stream",
          "name": "stdout",
          "text": [
            "a = 10\n",
            "b = 5\n"
          ]
        }
      ]
    },
    {
      "cell_type": "markdown",
      "source": [
        "●Q6 \tWrite a program that inputs one five-digit number, generates its reverse and displays the reverse on screen.(Hint: Make use of the arithmetic operators modulus (%) and floor (// )"
      ],
      "metadata": {
        "id": "pdFk_0fq0un1"
      }
    },
    {
      "cell_type": "code",
      "source": [
        "number = int(input(\"Enter a five-digit number: \"))\n",
        "\n",
        "reversed_number = 0\n",
        "while number > 0:\n",
        "    reversed_number = reversed_number * 10 + number % 10\n",
        "    number //= 10\n",
        "\n",
        "print(\"Reversed number:\", reversed_number)\n"
      ],
      "metadata": {
        "id": "bQSFxhyxPq4w",
        "colab": {
          "base_uri": "https://localhost:8080/"
        },
        "outputId": "b5015e8e-efde-434d-89b3-782b928eb60c"
      },
      "execution_count": 4,
      "outputs": [
        {
          "output_type": "stream",
          "name": "stdout",
          "text": [
            "Enter a five-digit number: 12345\n",
            "Reversed number: 54321\n"
          ]
        }
      ]
    },
    {
      "cell_type": "markdown",
      "source": [
        "\n",
        "●Q7 \tWrite a program that reads three nonzero integers and determines and prints if they could be the sides of a right triangle. (Hint : use Pythagoras theorem you learned in mathematics during FSC or matric , try different combinations of the same integers )\n"
      ],
      "metadata": {
        "id": "HRseAS-d1WnU"
      }
    },
    {
      "cell_type": "code",
      "source": [
        "a = int(input(\"Enter the first nonzero integer: \"))\n",
        "b = int(input(\"Enter the second nonzero integer: \"))\n",
        "c = int(input(\"Enter the third nonzero integer: \"))\n",
        "\n",
        "def is_right_triangle(x, y, z):\n",
        "    sides = sorted([x, y, z])\n",
        "    return sides[0]**2 + sides[1]**2 == sides[2]**2\n",
        "\n",
        "if is_right_triangle(a, b, c):\n",
        "    print(\"The integers can be the sides of a right triangle.\")\n",
        "else:\n",
        "    print(\"The integers cannot be the sides of a right triangle.\")\n"
      ],
      "metadata": {
        "id": "cCLoIjHZQ_Pq",
        "colab": {
          "base_uri": "https://localhost:8080/"
        },
        "outputId": "ca34553c-dabd-423f-94d7-7bcdbe89e690"
      },
      "execution_count": 5,
      "outputs": [
        {
          "output_type": "stream",
          "name": "stdout",
          "text": [
            "Enter the first nonzero integer: 3\n",
            "Enter the second nonzero integer: 4\n",
            "Enter the third nonzero integer: 5\n",
            "The integers can be the sides of a right triangle.\n"
          ]
        }
      ]
    },
    {
      "cell_type": "markdown",
      "source": [
        "●\t Q8  Write a program to prompt for a score between 0.0 and 1.0. If the score is out of range, print an error message. If the score is between 0.0 and 1.0, print a grade using the following table:"
      ],
      "metadata": {
        "id": "fAPKpkle1s_8"
      }
    },
    {
      "cell_type": "code",
      "source": [
        "score = float(input(\"Enter a score between 0.0 and 1.0: \"))\n",
        "\n",
        "if score < 0.0 or score > 1.0:\n",
        "    print(\"Error: Score out of range.\")\n",
        "else:\n",
        "    if score >= 0.9:\n",
        "        grade = \"A\"\n",
        "    elif score >= 0.8:\n",
        "        grade = \"B\"\n",
        "    elif score >= 0.7:\n",
        "        grade = \"C\"\n",
        "    elif score >= 0.6:\n",
        "        grade = \"D\"\n",
        "    else:\n",
        "        grade = \"F\"\n",
        "\n",
        "    print(\"Grade:\", grade)\n"
      ],
      "metadata": {
        "colab": {
          "base_uri": "https://localhost:8080/"
        },
        "id": "3hp6yybh1nka",
        "outputId": "45475d8e-730f-4d60-e7d8-6050201cfa12"
      },
      "execution_count": 7,
      "outputs": [
        {
          "output_type": "stream",
          "name": "stdout",
          "text": [
            "Enter a score between 0.0 and 1.0: 0.6\n",
            "Grade: D\n"
          ]
        }
      ]
    },
    {
      "cell_type": "markdown",
      "source": [
        "Q9 A palindrome is a number or a text phrase that reads the same backwards as forwards. For example, each of the following five-digit integers are palindromes: 12321, 55555, 45554 and 11611. Write a program that reads in a five-digit integer and determines whether or not it is a palindrome."
      ],
      "metadata": {
        "id": "rN2vUuXb2Hu8"
      }
    },
    {
      "cell_type": "code",
      "source": [
        "number = input(\"Enter a five-digit integer: \")\n",
        "\n",
        "if len(number) == 5 and number.isdigit():\n",
        "    if number == number[::-1]:\n",
        "        print(\"The number is a palindrome.\")\n",
        "    else:\n",
        "        print(\"The number is not a palindrome.\")\n",
        "else:\n",
        "    print(\"Error: The input is not a five-digit integer.\")\n"
      ],
      "metadata": {
        "colab": {
          "base_uri": "https://localhost:8080/"
        },
        "id": "rsJf4H632OMF",
        "outputId": "e066a1a5-3d1b-45b2-eb1d-c752be1b2154"
      },
      "execution_count": 8,
      "outputs": [
        {
          "output_type": "stream",
          "name": "stdout",
          "text": [
            "Enter a five-digit integer: 12456\n",
            "The number is not a palindrome.\n"
          ]
        }
      ]
    },
    {
      "cell_type": "markdown",
      "source": [
        "●Q10 \tWrite a program that reads an integer and determines and prints whether it is odd or even."
      ],
      "metadata": {
        "id": "Z4npkO832x8q"
      }
    },
    {
      "cell_type": "code",
      "source": [
        "number = int(input(\"Enter an integer: \"))\n",
        "\n",
        "if number % 2 == 0:\n",
        "    print(\"The number is even.\")\n",
        "else:\n",
        "    print(\"The number is odd.\")\n"
      ],
      "metadata": {
        "colab": {
          "base_uri": "https://localhost:8080/"
        },
        "id": "Berqft2c20Ga",
        "outputId": "ebbc1a40-6f3a-45f2-89ea-730c0dac740e"
      },
      "execution_count": 9,
      "outputs": [
        {
          "output_type": "stream",
          "name": "stdout",
          "text": [
            "Enter an integer: 5\n",
            "The number is odd.\n"
          ]
        }
      ]
    },
    {
      "cell_type": "markdown",
      "source": [
        "●Q11\tWrite a program that inputs three different integers from the keyboard, and then prints the smallest and the largest of these numbers. Use only the single-selection form of the if statement that you learned in the class"
      ],
      "metadata": {
        "id": "TZ-1TJzQ2-Tk"
      }
    },
    {
      "cell_type": "code",
      "source": [
        "\n",
        "num1 = int(input(\"Enter the first integer: \"))\n",
        "num2 = int(input(\"Enter the second integer: \"))\n",
        "num3 = int(input(\"Enter the third integer: \"))\n",
        "\n",
        "\n",
        "if num1 < num2 and num1 < num3:\n",
        "    smallest = num1\n",
        "elif num2 < num1 and num2 < num3:\n",
        "    smallest = num2\n",
        "else:\n",
        "    smallest = num3\n",
        "\n",
        "if num1 > num2 and num1 > num3:\n",
        "    largest = num1\n",
        "elif num2 > num1 and num2 > num3:\n",
        "    largest = num2\n",
        "else:\n",
        "    largest = num3\n",
        "\n",
        "\n",
        "print(\"The smallest number is:\", smallest)\n",
        "print(\"The largest number is:\", largest)\n"
      ],
      "metadata": {
        "colab": {
          "base_uri": "https://localhost:8080/"
        },
        "id": "_Y2qMRpl254h",
        "outputId": "a5f08db1-36bc-4cb0-8306-8abef06f392a"
      },
      "execution_count": 13,
      "outputs": [
        {
          "output_type": "stream",
          "name": "stdout",
          "text": [
            "Enter the first integer: 4\n",
            "Enter the second integer: 5\n",
            "Enter the third integer: 7\n",
            "The smallest number is: 4\n",
            "The largest number is: 7\n"
          ]
        }
      ]
    },
    {
      "cell_type": "markdown",
      "source": [
        "●Q12\tWrite a program that produces the following output using variables instead of hardcoding:\n",
        "\n",
        "HHHHHH\n",
        "   HHHHH\n",
        "         HHH\n",
        "            HH\n",
        "               H\n"
      ],
      "metadata": {
        "id": "ZItRuazB3evD"
      }
    },
    {
      "cell_type": "code",
      "source": [
        "lines = 5\n",
        "\n",
        "\n",
        "for i in range(lines):\n",
        "\n",
        "    spaces = i\n",
        "\n",
        "    num_h = lines - i\n",
        "\n",
        "    print(' ' * spaces + 'H' * num_h)\n"
      ],
      "metadata": {
        "colab": {
          "base_uri": "https://localhost:8080/"
        },
        "id": "ANMGI_-l3Mhq",
        "outputId": "dc598135-4b3d-4cf9-8a47-0a0742556dd5"
      },
      "execution_count": 16,
      "outputs": [
        {
          "output_type": "stream",
          "name": "stdout",
          "text": [
            "HHHHH\n",
            " HHHH\n",
            "  HHH\n",
            "   HH\n",
            "    H\n"
          ]
        }
      ]
    },
    {
      "cell_type": "markdown",
      "source": [
        "●\tQ13 Write a program that asks the user to enter two numbers, obtains the two numbers from the user and prints the sum, product, difference, quotient and remainder of the two numbers."
      ],
      "metadata": {
        "id": "fwXeqKtY4J9K"
      }
    },
    {
      "cell_type": "code",
      "source": [
        "num1 = float(input(\"Enter the first number: \"))\n",
        "num2 = float(input(\"Enter the second number: \"))\n",
        "\n",
        "sum_result = num1 + num2\n",
        "product_result = num1 * num2\n",
        "difference_result = num1 - num2\n",
        "\n",
        "if num2 != 0:\n",
        "    quotient_result = num1 / num2\n",
        "    remainder_result = num1 % num2\n",
        "else:\n",
        "    quotient_result = \"undefined (division by zero)\"\n",
        "    remainder_result = \"undefined (division by zero)\"\n",
        "\n",
        "print(\"Sum:\", sum_result)\n",
        "print(\"Product:\", product_result)\n",
        "print(\"Difference:\", difference_result)\n",
        "print(\"Quotient:\", quotient_result)\n",
        "print(\"Remainder:\", remainder_result)\n"
      ],
      "metadata": {
        "colab": {
          "base_uri": "https://localhost:8080/"
        },
        "id": "ngJR5YHg4NN2",
        "outputId": "e500ae71-edd4-4113-820c-069e92671af4"
      },
      "execution_count": 17,
      "outputs": [
        {
          "output_type": "stream",
          "name": "stdout",
          "text": [
            "Enter the first number: 4\n",
            "Enter the second number: 7\n",
            "Sum: 11.0\n",
            "Product: 28.0\n",
            "Difference: -3.0\n",
            "Quotient: 0.5714285714285714\n",
            "Remainder: 4.0\n"
          ]
        }
      ]
    },
    {
      "cell_type": "markdown",
      "source": [
        "●\tQ14  Write a program that reads in the radius of a circle and prints the circle’s diameter, circumference and area. Use the constant value 3.14159 for π. Perform each of these calculations inside the print statement()."
      ],
      "metadata": {
        "id": "AMqJrpoA4acq"
      }
    },
    {
      "cell_type": "code",
      "source": [
        "PI = 3.14159\n",
        "\n",
        "radius = float(input(\"Enter the radius of the circle: \"))\n",
        "\n",
        "print(f\"Diameter: {2 * radius}\")\n",
        "print(f\"Circumference: {2 * PI * radius}\")\n",
        "print(f\"Area: {PI * radius ** 2}\")\n"
      ],
      "metadata": {
        "colab": {
          "base_uri": "https://localhost:8080/"
        },
        "id": "8DSHLEL24iun",
        "outputId": "b9b947d0-7862-4290-e7e3-eb385e526bc4"
      },
      "execution_count": 18,
      "outputs": [
        {
          "output_type": "stream",
          "name": "stdout",
          "text": [
            "Enter the radius of the circle: 45\n",
            "Diameter: 90.0\n",
            "Circumference: 282.74309999999997\n",
            "Area: 6361.71975\n"
          ]
        }
      ]
    },
    {
      "cell_type": "markdown",
      "source": [
        "# **THE END**"
      ],
      "metadata": {
        "id": "bjyBgEin43ky"
      }
    }
  ]
}
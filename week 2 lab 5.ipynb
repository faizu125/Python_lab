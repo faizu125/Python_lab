{
 "cells": [
  {
   "cell_type": "markdown",
   "id": "f59b8193-e2e3-4bf3-ba14-4b963b87c8dc",
   "metadata": {},
   "source": [
    "# Lab 05: String and List Methods"
   ]
  },
  {
   "cell_type": "markdown",
   "id": "721676b0-ad06-4f81-9169-af35712f008a",
   "metadata": {},
   "source": [
    "\n",
    "#### 1.\tWrite a program that inputs a line of text. Output the text in uppercase letters and in lowercase letters using built-in functions.\n"
   ]
  },
  {
   "cell_type": "code",
   "execution_count": 1,
   "id": "2463cd2a-cbbe-4417-9183-52b553a9a65e",
   "metadata": {},
   "outputs": [
    {
     "name": "stdin",
     "output_type": "stream",
     "text": [
      "Enter a line of text:  the world\n"
     ]
    },
    {
     "name": "stdout",
     "output_type": "stream",
     "text": [
      "Uppercase: THE WORLD\n",
      "Lowercase: the world\n"
     ]
    }
   ],
   "source": [
    "def main():\n",
    "    text = input(\"Enter a line of text: \")\n",
    "    \n",
    "    uppercase_text = text.upper()\n",
    "    \n",
    "    lowercase_text = text.lower()\n",
    "    \n",
    "    print(\"Uppercase:\", uppercase_text)\n",
    "    print(\"Lowercase:\", lowercase_text)\n",
    "\n",
    "if __name__ == \"__main__\":\n",
    "    main()\n"
   ]
  },
  {
   "cell_type": "markdown",
   "id": "378fb524-12c0-40be-9bb9-ff99d41e393e",
   "metadata": {},
   "source": [
    "#### 2.\tA simple way to estimate the number of words in a string is to count the number of spaces in the string. Write a program that asks the user for a string and returns an estimate of how many words are in the string."
   ]
  },
  {
   "cell_type": "code",
   "execution_count": 2,
   "id": "d872e64b-ccf4-443e-8c24-9e666b112258",
   "metadata": {},
   "outputs": [
    {
     "name": "stdin",
     "output_type": "stream",
     "text": [
      "Enter a string:  sania\n"
     ]
    },
    {
     "name": "stdout",
     "output_type": "stream",
     "text": [
      "Estimated number of words: 1\n"
     ]
    }
   ],
   "source": [
    "def estimate_word_count(text: str) -> int:\n",
    "\n",
    "    return text.count(' ') + 1\n",
    "\n",
    "def main():\n",
    "\n",
    "    user_input = input(\"Enter a string: \")\n",
    "    \n",
    "\n",
    "    word_count = estimate_word_count(user_input)\n",
    "    \n",
    "\n",
    "    print(f\"Estimated number of words: {word_count}\")\n",
    "\n",
    "if __name__ == \"__main__\":\n",
    "    main()\n"
   ]
  },
  {
   "cell_type": "markdown",
   "id": "604987dd-6614-4f05-866f-cc82eff09475",
   "metadata": {},
   "source": [
    "#### 3.\tWrite a program that asks the user to enter a string s and then converts s to lowercase, removes all the periods and commas from s, and prints the resulting string.(Hint: use the split method)"
   ]
  },
  {
   "cell_type": "code",
   "execution_count": 3,
   "id": "e36cbb33-bb4f-4f4b-9364-b149c7bb67d0",
   "metadata": {},
   "outputs": [
    {
     "name": "stdin",
     "output_type": "stream",
     "text": [
      "Enter a string:  the world\n"
     ]
    },
    {
     "name": "stdout",
     "output_type": "stream",
     "text": [
      "Processed string: the world\n"
     ]
    }
   ],
   "source": [
    "def process_string(s: str) -> str:\n",
    "    s = s.lower()\n",
    "    \n",
    "    s = s.replace('.', '')\n",
    "    s = s.replace(',', '')\n",
    "    \n",
    "    return s\n",
    "\n",
    "def main():\n",
    "    user_input = input(\"Enter a string: \")\n",
    "    \n",
    "    result = process_string(user_input)\n",
    "    \n",
    "    print(\"Processed string:\", result)\n",
    "\n",
    "if __name__ == \"__main__\":\n",
    "    main()\n"
   ]
  },
  {
   "cell_type": "markdown",
   "id": "abd2b814-7160-4df7-9b8c-5c39ef7e2634",
   "metadata": {},
   "source": [
    "\n",
    "\n",
    "#### 4.\tA variable ids refers to the list [4353, 2314, 2956, 3382, 9362, 3900]. Using list methods, do the following:\n",
    "#### a.\tRemove 3382 from the list.\n",
    "#### b.\tGet the index of 9362.\n",
    "#### c.\tInsert 4499 in the list after 9362.\n",
    "#### d.\tExtend the list by adding [5566, 1830] to it.\n",
    "#### e.\tReverse the list.\n",
    "#### f.\tSort the list.\n"
   ]
  },
  {
   "cell_type": "code",
   "execution_count": 4,
   "id": "f9f0c407-13bc-43ce-9a94-bc3ccfd5f893",
   "metadata": {},
   "outputs": [
    {
     "name": "stdout",
     "output_type": "stream",
     "text": [
      "Index of 9362: 3\n",
      "Final list: [1830, 2314, 2956, 3900, 4353, 4499, 5566, 9362]\n"
     ]
    }
   ],
   "source": [
    "def main():\n",
    "    ids = [4353, 2314, 2956, 3382, 9362, 3900]\n",
    "    \n",
    "    # a. Remove 3382 from the list\n",
    "    ids.remove(3382)\n",
    "    \n",
    "    # b. Get the index of 9362\n",
    "    index_of_9362 = ids.index(9362)\n",
    "    print(\"Index of 9362:\", index_of_9362)\n",
    "    \n",
    "    # c. Insert 4499 in the list after 9362\n",
    "    ids.insert(index_of_9362 + 1, 4499)\n",
    "    \n",
    "    # d. Extend the list by adding [5566, 1830] to it\n",
    "    ids.extend([5566, 1830])\n",
    "    \n",
    "    # e. Reverse the list\n",
    "    ids.reverse()\n",
    "    \n",
    "    # f. Sort the list\n",
    "    ids.sort()\n",
    "    \n",
    "    # Print the final list\n",
    "    print(\"Final list:\", ids)\n",
    "\n",
    "if __name__ == \"__main__\":\n",
    "    main()\n"
   ]
  },
  {
   "cell_type": "markdown",
   "id": "6cca1416-e7d5-4988-ac84-edd030c199ca",
   "metadata": {},
   "source": [
    "#### 5.\tWhen playing games where you have to roll two dice, it is nice to know the odds of each roll. For instance, the odds of rolling a 12 are about 3%, and the odds of rolling a 7 are about 17%. You can compute these mathematically, but if you don’t know the math, you can write a program to do it. To do this, your program should simulate rolling two dice about 10,000 times and compute and print out the percentage of rolls that come out to be 2, 3, 4, . . . , 12. Print the results in a table format."
   ]
  },
  {
   "cell_type": "code",
   "execution_count": 5,
   "id": "92d35ec7-ad18-47e2-9646-88700abf646b",
   "metadata": {},
   "outputs": [
    {
     "name": "stdout",
     "output_type": "stream",
     "text": [
      "Sum   Percentage\n",
      "2     2.70%\n",
      "3     5.41%\n",
      "4     8.26%\n",
      "5     11.53%\n",
      "6     13.70%\n",
      "7     16.35%\n",
      "8     13.88%\n",
      "9     11.36%\n",
      "10    8.33%\n",
      "11    5.82%\n",
      "12    2.66%\n"
     ]
    }
   ],
   "source": [
    "import random\n",
    "\n",
    "def roll_two_dice():\n",
    "    return random.randint(1, 6) + random.randint(1, 6)\n",
    "\n",
    "def main():\n",
    "    num_rolls = 10000\n",
    "    counts = {i: 0 for i in range(2, 13)}\n",
    "\n",
    "    for _ in range(num_rolls):\n",
    "        result = roll_two_dice()\n",
    "        counts[result] += 1\n",
    "\n",
    "    print(f\"{'Sum':<5} {'Percentage':<10}\")\n",
    "    for i in range(2, 13):\n",
    "        percentage = (counts[i] / num_rolls) * 100\n",
    "        print(f\"{i:<5} {percentage:<.2f}%\")\n",
    "\n",
    "if __name__ == \"__main__\":\n",
    "    main()\n"
   ]
  },
  {
   "cell_type": "markdown",
   "id": "0b6a7eec-2f39-407f-8724-c06091597c37",
   "metadata": {},
   "source": [
    "#### 6.\tWrite a function each for mean, median and mode that accepts a list as an argument. The mean, median, and mode functions return an integer.\n",
    "\n",
    "#### a.\tUsing these functions, write a program that generates a 99-element list of random numbers between 1 and 100 (inclusive) and computes its mean, median, mode.\n"
   ]
  },
  {
   "cell_type": "code",
   "execution_count": 6,
   "id": "2da15c2b-7bb1-4b3e-adbe-2de0c349aff9",
   "metadata": {},
   "outputs": [
    {
     "name": "stdout",
     "output_type": "stream",
     "text": [
      "Mean: 50\n",
      "Median: 51\n",
      "Mode: 47\n"
     ]
    }
   ],
   "source": [
    "import random\n",
    "from collections import Counter\n",
    "from typing import List\n",
    "\n",
    "def mean(numbers: List[int]) -> int:\n",
    "    return sum(numbers) // len(numbers)\n",
    "\n",
    "def median(numbers: List[int]) -> int:\n",
    "    sorted_numbers = sorted(numbers)\n",
    "    n = len(sorted_numbers)\n",
    "    mid = n // 2\n",
    "    if n % 2 == 0:\n",
    "        return (sorted_numbers[mid - 1] + sorted_numbers[mid]) // 2\n",
    "    else:\n",
    "        return sorted_numbers[mid]\n",
    "\n",
    "def mode(numbers: List[int]) -> int:\n",
    "    counts = Counter(numbers)\n",
    "    return counts.most_common(1)[0][0]\n",
    "\n",
    "def main():\n",
    "    random_list = [random.randint(1, 100) for _ in range(99)]\n",
    "    \n",
    "    # Compute mean, median, and mode\n",
    "    print(\"Mean:\", mean(random_list))\n",
    "    print(\"Median:\", median(random_list))\n",
    "    print(\"Mode:\", mode(random_list))\n",
    "\n",
    "if __name__ == \"__main__\":\n",
    "    main()\n"
   ]
  },
  {
   "cell_type": "markdown",
   "id": "4a08babe-0fc9-4015-abd0-9ad9e1505508",
   "metadata": {},
   "source": [
    "\n",
    "#### 7.\tWrite a program that rotates the elements of a list so that the element at the first index moves to the second index, the element in the second index moves to the third index, etc., and the element in the last index moves to the first index\n"
   ]
  },
  {
   "cell_type": "code",
   "execution_count": 7,
   "id": "7c9af7b5-6f08-46bf-a7f9-51ef73eaee5e",
   "metadata": {},
   "outputs": [
    {
     "name": "stdout",
     "output_type": "stream",
     "text": [
      "Original list: [1, 2, 3, 4, 5]\n",
      "Rotated list: [5, 1, 2, 3, 4]\n"
     ]
    }
   ],
   "source": [
    "def rotate_list(lst):\n",
    "    if not lst:\n",
    "        return lst \n",
    "    \n",
    "    last_element = lst[-1]  \n",
    "    for i in range(len(lst) - 1, 0, -1):\n",
    "        lst[i] = lst[i - 1]  \n",
    "    lst[0] = last_element \n",
    "\n",
    "def main():\n",
    "    # Example list\n",
    "    my_list = [1, 2, 3, 4, 5]\n",
    "    \n",
    "    print(\"Original list:\", my_list)\n",
    "    \n",
    "    rotate_list(my_list)\n",
    "    \n",
    "    print(\"Rotated list:\", my_list)\n",
    "\n",
    "if __name__ == \"__main__\":\n",
    "    main()\n"
   ]
  },
  {
   "cell_type": "markdown",
   "id": "906752d4-e179-453f-a8dc-4ca201b8aefb",
   "metadata": {},
   "source": [
    "#### 8.\tWrite a program that generates 100 random integers that are either 0 or 1. Then find the longest run of zeros, the largest number of zeros in a row. For instance, the longest run of zeros in [1,0,1,1,0,0,0,0,1,0,0] is 4."
   ]
  },
  {
   "cell_type": "code",
   "execution_count": 8,
   "id": "c2fac3ac-cad3-4ac4-8756-6ea7b5b6f3a2",
   "metadata": {},
   "outputs": [
    {
     "name": "stdout",
     "output_type": "stream",
     "text": [
      "Longest run of zeros: 6\n"
     ]
    }
   ],
   "source": [
    "import random\n",
    "\n",
    "def generate_random_list(size):\n",
    "    return [random.randint(0, 1) for _ in range(size)]\n",
    "\n",
    "def longest_run_of_zeros(lst):\n",
    "    max_run = 0\n",
    "    current_run = 0\n",
    "    \n",
    "    for number in lst:\n",
    "        if number == 0:\n",
    "            current_run += 1\n",
    "            if current_run > max_run:\n",
    "                max_run = current_run\n",
    "        else:\n",
    "            current_run = 0\n",
    "    \n",
    "    return max_run\n",
    "\n",
    "def main():\n",
    "    random_list = generate_random_list(100)\n",
    "    \n",
    "    longest_run = longest_run_of_zeros(random_list)\n",
    "    \n",
    "    print(\"Longest run of zeros:\", longest_run)\n",
    "\n",
    "if __name__ == \"__main__\":\n",
    "    main()\n"
   ]
  },
  {
   "cell_type": "markdown",
   "id": "e4ed57f9-9252-42d5-8d20-a84563ec26ff",
   "metadata": {},
   "source": [
    "#### 9.\tRead the size of the matrix from the user. Populate it with data from the user. Print the original ,transpose  and  product of the matrices on the screen."
   ]
  },
  {
   "cell_type": "code",
   "execution_count": 9,
   "id": "0c43e626-7dbc-461a-9923-7728e26a4597",
   "metadata": {},
   "outputs": [
    {
     "name": "stdin",
     "output_type": "stream",
     "text": [
      "Enter the size of the matrix (n for n x n matrix):  5\n"
     ]
    },
    {
     "name": "stdout",
     "output_type": "stream",
     "text": [
      "Enter the matrix:\n"
     ]
    },
    {
     "name": "stdin",
     "output_type": "stream",
     "text": [
      "Enter row 1 (space-separated):  44\n",
      "Enter row 2 (space-separated):  55\n",
      "Enter row 3 (space-separated):  66\n",
      "Enter row 4 (space-separated):  66\n",
      "Enter row 5 (space-separated):  7\n"
     ]
    },
    {
     "name": "stdout",
     "output_type": "stream",
     "text": [
      "\n",
      "Original Matrix:\n",
      "44\n",
      "55\n",
      "66\n",
      "66\n",
      "7\n"
     ]
    },
    {
     "ename": "IndexError",
     "evalue": "list index out of range",
     "output_type": "error",
     "traceback": [
      "\u001b[1;31m---------------------------------------------------------------------------\u001b[0m",
      "\u001b[1;31mIndexError\u001b[0m                                Traceback (most recent call last)",
      "Cell \u001b[1;32mIn[9], line 42\u001b[0m\n\u001b[0;32m     39\u001b[0m     print_matrix(product)\n\u001b[0;32m     41\u001b[0m \u001b[38;5;28;01mif\u001b[39;00m \u001b[38;5;18m__name__\u001b[39m \u001b[38;5;241m==\u001b[39m \u001b[38;5;124m\"\u001b[39m\u001b[38;5;124m__main__\u001b[39m\u001b[38;5;124m\"\u001b[39m:\n\u001b[1;32m---> 42\u001b[0m     main()\n",
      "Cell \u001b[1;32mIn[9], line 33\u001b[0m, in \u001b[0;36mmain\u001b[1;34m()\u001b[0m\n\u001b[0;32m     30\u001b[0m \u001b[38;5;28mprint\u001b[39m(\u001b[38;5;124m\"\u001b[39m\u001b[38;5;130;01m\\n\u001b[39;00m\u001b[38;5;124mOriginal Matrix:\u001b[39m\u001b[38;5;124m\"\u001b[39m)\n\u001b[0;32m     31\u001b[0m print_matrix(matrix)\n\u001b[1;32m---> 33\u001b[0m transposed \u001b[38;5;241m=\u001b[39m transpose(matrix)\n\u001b[0;32m     34\u001b[0m \u001b[38;5;28mprint\u001b[39m(\u001b[38;5;124m\"\u001b[39m\u001b[38;5;130;01m\\n\u001b[39;00m\u001b[38;5;124mTranspose Matrix:\u001b[39m\u001b[38;5;124m\"\u001b[39m)\n\u001b[0;32m     35\u001b[0m print_matrix(transposed)\n",
      "Cell \u001b[1;32mIn[9], line 14\u001b[0m, in \u001b[0;36mtranspose\u001b[1;34m(matrix)\u001b[0m\n\u001b[0;32m     12\u001b[0m \u001b[38;5;28;01mdef\u001b[39;00m \u001b[38;5;21mtranspose\u001b[39m(matrix):\n\u001b[0;32m     13\u001b[0m     size \u001b[38;5;241m=\u001b[39m \u001b[38;5;28mlen\u001b[39m(matrix)\n\u001b[1;32m---> 14\u001b[0m     \u001b[38;5;28;01mreturn\u001b[39;00m [[matrix[j][i] \u001b[38;5;28;01mfor\u001b[39;00m j \u001b[38;5;129;01min\u001b[39;00m \u001b[38;5;28mrange\u001b[39m(size)] \u001b[38;5;28;01mfor\u001b[39;00m i \u001b[38;5;129;01min\u001b[39;00m \u001b[38;5;28mrange\u001b[39m(size)]\n",
      "\u001b[1;31mIndexError\u001b[0m: list index out of range"
     ]
    }
   ],
   "source": [
    "def read_matrix(size):\n",
    "    matrix = []\n",
    "    for i in range(size):\n",
    "        row = list(map(int, input(f\"Enter row {i + 1} (space-separated): \").split()))\n",
    "        matrix.append(row)\n",
    "    return matrix\n",
    "\n",
    "def print_matrix(matrix):\n",
    "    for row in matrix:\n",
    "        print(' '.join(map(str, row)))\n",
    "\n",
    "def transpose(matrix):\n",
    "    size = len(matrix)\n",
    "    return [[matrix[j][i] for j in range(size)] for i in range(size)]\n",
    "\n",
    "def matrix_product(matrix1, matrix2):\n",
    "    size = len(matrix1)\n",
    "    product = [[0] * size for _ in range(size)]\n",
    "    for i in range(size):\n",
    "        for j in range(size):\n",
    "            product[i][j] = sum(matrix1[i][k] * matrix2[k][j] for k in range(size))\n",
    "    return product\n",
    "\n",
    "def main():\n",
    "    size = int(input(\"Enter the size of the matrix (n for n x n matrix): \"))\n",
    "    \n",
    "    print(\"Enter the matrix:\")\n",
    "    matrix = read_matrix(size)\n",
    "    \n",
    "    print(\"\\nOriginal Matrix:\")\n",
    "    print_matrix(matrix)\n",
    "    \n",
    "    transposed = transpose(matrix)\n",
    "    print(\"\\nTranspose Matrix:\")\n",
    "    print_matrix(transposed)\n",
    "    \n",
    "    product = matrix_product(matrix, transposed)\n",
    "    print(\"\\nProduct of Original Matrix and its Transpose:\")\n",
    "    print_matrix(product)\n",
    "\n",
    "if __name__ == \"__main__\":\n",
    "    main()\n"
   ]
  },
  {
   "cell_type": "markdown",
   "id": "98be09d1-8322-459a-813d-c015dd4c098b",
   "metadata": {},
   "source": [
    "# THE END"
   ]
  },
  {
   "cell_type": "code",
   "execution_count": null,
   "id": "82ebc6c1-050b-4d36-bdad-1dd65c665cc9",
   "metadata": {},
   "outputs": [],
   "source": []
  }
 ],
 "metadata": {
  "kernelspec": {
   "display_name": "Python 3 (ipykernel)",
   "language": "python",
   "name": "python3"
  },
  "language_info": {
   "codemirror_mode": {
    "name": "ipython",
    "version": 3
   },
   "file_extension": ".py",
   "mimetype": "text/x-python",
   "name": "python",
   "nbconvert_exporter": "python",
   "pygments_lexer": "ipython3",
   "version": "3.12.4"
  }
 },
 "nbformat": 4,
 "nbformat_minor": 5
}

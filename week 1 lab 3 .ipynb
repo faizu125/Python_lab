{
 "cells": [
  {
   "cell_type": "markdown",
   "id": "ece70500-d485-44e7-a6f8-fc2d1dcb2ff3",
   "metadata": {},
   "source": [
    "# Loops in Python"
   ]
  },
  {
   "cell_type": "markdown",
   "id": "2c50cb9e-8d53-43f1-94fc-048ca4359be8",
   "metadata": {},
   "source": [
    "\n",
    "#### Task 1: Write a program that asks the user about the number of values he/she wants to enter. Than enter the values as per the required number, calculate its sum and identify the smallest value among them\n"
   ]
  },
  {
   "cell_type": "code",
   "execution_count": 1,
   "id": "23e45679-8268-449e-b849-8d7ed5d95be6",
   "metadata": {},
   "outputs": [
    {
     "name": "stdin",
     "output_type": "stream",
     "text": [
      "How many values do you want to enter?  6\n",
      "Enter value 1:  6\n",
      "Enter value 2:  7\n",
      "Enter value 3:  8\n",
      "Enter value 4:  8\n",
      "Enter value 5:  7\n",
      "Enter value 6:  6\n"
     ]
    },
    {
     "name": "stdout",
     "output_type": "stream",
     "text": [
      "The sum of the values is: 42.0\n",
      "The smallest value is: 6.0\n"
     ]
    }
   ],
   "source": [
    "def main():\n",
    "    num_values = int(input(\"How many values do you want to enter? \"))\n",
    "\n",
    "    values = []\n",
    "    for i in range(num_values):\n",
    "        value = float(input(f\"Enter value {i + 1}: \"))\n",
    "        values.append(value)\n",
    "\n",
    "    total_sum = sum(values)\n",
    "\n",
    "    smallest_value = min(values)\n",
    "\n",
    "    print(f\"The sum of the values is: {total_sum}\")\n",
    "    print(f\"The smallest value is: {smallest_value}\")\n",
    "\n",
    "if __name__ == \"__main__\":\n",
    "    main()\n"
   ]
  },
  {
   "cell_type": "markdown",
   "id": "b5a4d8c0-6193-4ddf-906a-7b83d080cedd",
   "metadata": {},
   "source": [
    "\n",
    "#### Task 2: The factorial function is used frequently in probability problems. The factorial of a positive integer n (written n! and pronounced “n factorial”) is equal to the product of the positive integers from 1 to n. Write a function factorial that accepts an integer as parameter and returns its factorial. Using the factorial function, write a program that evaluates the factorials of the integers from 1 to 5. \n"
   ]
  },
  {
   "cell_type": "code",
   "execution_count": 3,
   "id": "93525830-6c3a-439e-a1a6-29b266ac812c",
   "metadata": {},
   "outputs": [
    {
     "name": "stdout",
     "output_type": "stream",
     "text": [
      "The factorial of 1 is: 1\n",
      "The factorial of 2 is: 2\n",
      "The factorial of 3 is: 6\n",
      "The factorial of 4 is: 24\n",
      "The factorial of 5 is: 120\n"
     ]
    }
   ],
   "source": [
    "def factorial(n):\n",
    "    \"\"\"Return the factorial of a positive integer n.\"\"\"\n",
    "    if n == 0 or n == 1:\n",
    "        return 1\n",
    "    else:\n",
    "        return n * factorial(n - 1)\n",
    "\n",
    "for i in range(1, 6):\n",
    "    print(f\"The factorial of {i} is: {factorial(i)}\")\n"
   ]
  },
  {
   "cell_type": "markdown",
   "id": "1e0e4583-99a6-4391-91e9-bfcbae6b6b00",
   "metadata": {},
   "source": [
    "#### Task 3: Write a program that plays an incredibly stupid number-guessing game. The user will try to guess the secret number until they get it right. That means it will keep looping as long as the guess is different from the secret number. You must store the secret number in a variable, and use that variable throughout. The secret number itself must not appear in the program at all, except in the one line where you store it into a variable"
   ]
  },
  {
   "cell_type": "code",
   "execution_count": 4,
   "id": "283ac4fd-7637-45c9-9889-e2c7cc127827",
   "metadata": {},
   "outputs": [
    {
     "name": "stdin",
     "output_type": "stream",
     "text": [
      "Guess the secret number:  56\n"
     ]
    },
    {
     "name": "stdout",
     "output_type": "stream",
     "text": [
      "Wrong guess. Try again!\n"
     ]
    },
    {
     "name": "stdin",
     "output_type": "stream",
     "text": [
      "Guess the secret number:  3\n"
     ]
    },
    {
     "name": "stdout",
     "output_type": "stream",
     "text": [
      "Wrong guess. Try again!\n"
     ]
    },
    {
     "name": "stdin",
     "output_type": "stream",
     "text": [
      "Guess the secret number:  6\n"
     ]
    },
    {
     "name": "stdout",
     "output_type": "stream",
     "text": [
      "Wrong guess. Try again!\n"
     ]
    },
    {
     "name": "stdin",
     "output_type": "stream",
     "text": [
      "Guess the secret number:  5\n"
     ]
    },
    {
     "name": "stdout",
     "output_type": "stream",
     "text": [
      "Wrong guess. Try again!\n"
     ]
    },
    {
     "name": "stdin",
     "output_type": "stream",
     "text": [
      "Guess the secret number:  7\n"
     ]
    },
    {
     "name": "stdout",
     "output_type": "stream",
     "text": [
      "Congratulations! You've guessed the secret number!\n"
     ]
    }
   ],
   "source": [
    "def guess_the_number():\n",
    "    secret_number = 7  \n",
    "\n",
    "    while True:\n",
    "        guess = int(input(\"Guess the secret number: \"))\n",
    "\n",
    "        if guess == secret_number:\n",
    "            print(\"Congratulations! You've guessed the secret number!\")\n",
    "            break\n",
    "        else:\n",
    "            print(\"Wrong guess. Try again!\")\n",
    "\n",
    "guess_the_number()\n"
   ]
  },
  {
   "cell_type": "markdown",
   "id": "c228095b-d77f-431d-ac04-4e2df0e4f8b6",
   "metadata": {},
   "source": [
    "#### Task 4: The greatest common divisor (GCD) of two integers is the largest integer that evenly divides each of the two numbers. Write function gcd that returns the greatest common divisor of two integers. Use the gcd function in your program to determine the GCD of the numbers in the sample output:\n"
   ]
  },
  {
   "cell_type": "code",
   "execution_count": 5,
   "id": "d76d3d3f-f3d6-476a-9ef9-bb05c69b8740",
   "metadata": {},
   "outputs": [
    {
     "name": "stdout",
     "output_type": "stream",
     "text": [
      "The GCD of 48 and 18 is: 6\n"
     ]
    }
   ],
   "source": [
    "def gcd(a, b):\n",
    "    while b != 0:\n",
    "        a, b = b, a % b\n",
    "    return a\n",
    "\n",
    "number1 = 48\n",
    "number2 = 18\n",
    "\n",
    "result = gcd(number1, number2)\n",
    "\n",
    "print(f\"The GCD of {number1} and {number2} is: {result}\")\n"
   ]
  },
  {
   "cell_type": "markdown",
   "id": "d64e7604-12e2-47eb-8c1f-99870e254960",
   "metadata": {},
   "source": [
    "#### Task 5: An integer is said to be prime if it is divisible only by 1 and itself. For example, 2, 3, 5 and 7 are prime, but 4, 6, 8 and 9 are not.a) Write a function that determines if a number is prime.b) Use this function in a program that determines and prints all the prime numbers between 1 and 10,000.\n"
   ]
  },
  {
   "cell_type": "code",
   "execution_count": 6,
   "id": "c610c887-9756-4b34-a7ce-6aaf49cf717b",
   "metadata": {},
   "outputs": [
    {
     "name": "stdout",
     "output_type": "stream",
     "text": [
      "2 3 5 7 11 13 17 19 23 29 31 37 41 43 47 53 59 61 67 71 73 79 83 89 97 101 103 107 109 113 127 131 137 139 149 151 157 163 167 173 179 181 191 193 197 199 211 223 227 229 233 239 241 251 257 263 269 271 277 281 283 293 307 311 313 317 331 337 347 349 353 359 367 373 379 383 389 397 401 409 419 421 431 433 439 443 449 457 461 463 467 479 487 491 499 503 509 521 523 541 547 557 563 569 571 577 587 593 599 601 607 613 617 619 631 641 643 647 653 659 661 673 677 683 691 701 709 719 727 733 739 743 751 757 761 769 773 787 797 809 811 821 823 827 829 839 853 857 859 863 877 881 883 887 907 911 919 929 937 941 947 953 967 971 977 983 991 997 1009 1013 1019 1021 1031 1033 1039 1049 1051 1061 1063 1069 1087 1091 1093 1097 1103 1109 1117 1123 1129 1151 1153 1163 1171 1181 1187 1193 1201 1213 1217 1223 1229 1231 1237 1249 1259 1277 1279 1283 1289 1291 1297 1301 1303 1307 1319 1321 1327 1361 1367 1373 1381 1399 1409 1423 1427 1429 1433 1439 1447 1451 1453 1459 1471 1481 1483 1487 1489 1493 1499 1511 1523 1531 1543 1549 1553 1559 1567 1571 1579 1583 1597 1601 1607 1609 1613 1619 1621 1627 1637 1657 1663 1667 1669 1693 1697 1699 1709 1721 1723 1733 1741 1747 1753 1759 1777 1783 1787 1789 1801 1811 1823 1831 1847 1861 1867 1871 1873 1877 1879 1889 1901 1907 1913 1931 1933 1949 1951 1973 1979 1987 1993 1997 1999 2003 2011 2017 2027 2029 2039 2053 2063 2069 2081 2083 2087 2089 2099 2111 2113 2129 2131 2137 2141 2143 2153 2161 2179 2203 2207 2213 2221 2237 2239 2243 2251 2267 2269 2273 2281 2287 2293 2297 2309 2311 2333 2339 2341 2347 2351 2357 2371 2377 2381 2383 2389 2393 2399 2411 2417 2423 2437 2441 2447 2459 2467 2473 2477 2503 2521 2531 2539 2543 2549 2551 2557 2579 2591 2593 2609 2617 2621 2633 2647 2657 2659 2663 2671 2677 2683 2687 2689 2693 2699 2707 2711 2713 2719 2729 2731 2741 2749 2753 2767 2777 2789 2791 2797 2801 2803 2819 2833 2837 2843 2851 2857 2861 2879 2887 2897 2903 2909 2917 2927 2939 2953 2957 2963 2969 2971 2999 3001 3011 3019 3023 3037 3041 3049 3061 3067 3079 3083 3089 3109 3119 3121 3137 3163 3167 3169 3181 3187 3191 3203 3209 3217 3221 3229 3251 3253 3257 3259 3271 3299 3301 3307 3313 3319 3323 3329 3331 3343 3347 3359 3361 3371 3373 3389 3391 3407 3413 3433 3449 3457 3461 3463 3467 3469 3491 3499 3511 3517 3527 3529 3533 3539 3541 3547 3557 3559 3571 3581 3583 3593 3607 3613 3617 3623 3631 3637 3643 3659 3671 3673 3677 3691 3697 3701 3709 3719 3727 3733 3739 3761 3767 3769 3779 3793 3797 3803 3821 3823 3833 3847 3851 3853 3863 3877 3881 3889 3907 3911 3917 3919 3923 3929 3931 3943 3947 3967 3989 4001 4003 4007 4013 4019 4021 4027 4049 4051 4057 4073 4079 4091 4093 4099 4111 4127 4129 4133 4139 4153 4157 4159 4177 4201 4211 4217 4219 4229 4231 4241 4243 4253 4259 4261 4271 4273 4283 4289 4297 4327 4337 4339 4349 4357 4363 4373 4391 4397 4409 4421 4423 4441 4447 4451 4457 4463 4481 4483 4493 4507 4513 4517 4519 4523 4547 4549 4561 4567 4583 4591 4597 4603 4621 4637 4639 4643 4649 4651 4657 4663 4673 4679 4691 4703 4721 4723 4729 4733 4751 4759 4783 4787 4789 4793 4799 4801 4813 4817 4831 4861 4871 4877 4889 4903 4909 4919 4931 4933 4937 4943 4951 4957 4967 4969 4973 4987 4993 4999 5003 5009 5011 5021 5023 5039 5051 5059 5077 5081 5087 5099 5101 5107 5113 5119 5147 5153 5167 5171 5179 5189 5197 5209 5227 5231 5233 5237 5261 5273 5279 5281 5297 5303 5309 5323 5333 5347 5351 5381 5387 5393 5399 5407 5413 5417 5419 5431 5437 5441 5443 5449 5471 5477 5479 5483 5501 5503 5507 5519 5521 5527 5531 5557 5563 5569 5573 5581 5591 5623 5639 5641 5647 5651 5653 5657 5659 5669 5683 5689 5693 5701 5711 5717 5737 5741 5743 5749 5779 5783 5791 5801 5807 5813 5821 5827 5839 5843 5849 5851 5857 5861 5867 5869 5879 5881 5897 5903 5923 5927 5939 5953 5981 5987 6007 6011 6029 6037 6043 6047 6053 6067 6073 6079 6089 6091 6101 6113 6121 6131 6133 6143 6151 6163 6173 6197 6199 6203 6211 6217 6221 6229 6247 6257 6263 6269 6271 6277 6287 6299 6301 6311 6317 6323 6329 6337 6343 6353 6359 6361 6367 6373 6379 6389 6397 6421 6427 6449 6451 6469 6473 6481 6491 6521 6529 6547 6551 6553 6563 6569 6571 6577 6581 6599 6607 6619 6637 6653 6659 6661 6673 6679 6689 6691 6701 6703 6709 6719 6733 6737 6761 6763 6779 6781 6791 6793 6803 6823 6827 6829 6833 6841 6857 6863 6869 6871 6883 6899 6907 6911 6917 6947 6949 6959 6961 6967 6971 6977 6983 6991 6997 7001 7013 7019 7027 7039 7043 7057 7069 7079 7103 7109 7121 7127 7129 7151 7159 7177 7187 7193 7207 7211 7213 7219 7229 7237 7243 7247 7253 7283 7297 7307 7309 7321 7331 7333 7349 7351 7369 7393 7411 7417 7433 7451 7457 7459 7477 7481 7487 7489 7499 7507 7517 7523 7529 7537 7541 7547 7549 7559 7561 7573 7577 7583 7589 7591 7603 7607 7621 7639 7643 7649 7669 7673 7681 7687 7691 7699 7703 7717 7723 7727 7741 7753 7757 7759 7789 7793 7817 7823 7829 7841 7853 7867 7873 7877 7879 7883 7901 7907 7919 7927 7933 7937 7949 7951 7963 7993 8009 8011 8017 8039 8053 8059 8069 8081 8087 8089 8093 8101 8111 8117 8123 8147 8161 8167 8171 8179 8191 8209 8219 8221 8231 8233 8237 8243 8263 8269 8273 8287 8291 8293 8297 8311 8317 8329 8353 8363 8369 8377 8387 8389 8419 8423 8429 8431 8443 8447 8461 8467 8501 8513 8521 8527 8537 8539 8543 8563 8573 8581 8597 8599 8609 8623 8627 8629 8641 8647 8663 8669 8677 8681 8689 8693 8699 8707 8713 8719 8731 8737 8741 8747 8753 8761 8779 8783 8803 8807 8819 8821 8831 8837 8839 8849 8861 8863 8867 8887 8893 8923 8929 8933 8941 8951 8963 8969 8971 8999 9001 9007 9011 9013 9029 9041 9043 9049 9059 9067 9091 9103 9109 9127 9133 9137 9151 9157 9161 9173 9181 9187 9199 9203 9209 9221 9227 9239 9241 9257 9277 9281 9283 9293 9311 9319 9323 9337 9341 9343 9349 9371 9377 9391 9397 9403 9413 9419 9421 9431 9433 9437 9439 9461 9463 9467 9473 9479 9491 9497 9511 9521 9533 9539 9547 9551 9587 9601 9613 9619 9623 9629 9631 9643 9649 9661 9677 9679 9689 9697 9719 9721 9733 9739 9743 9749 9767 9769 9781 9787 9791 9803 9811 9817 9829 9833 9839 9851 9857 9859 9871 9883 9887 9901 9907 9923 9929 9931 9941 9949 9967 9973 "
     ]
    }
   ],
   "source": [
    "import math\n",
    "\n",
    "def is_prime(n):\n",
    "    if n <= 1:\n",
    "        return False\n",
    "    if n <= 3:\n",
    "        return True\n",
    "    if n % 2 == 0 or n % 3 == 0:\n",
    "        return False\n",
    "    i = 5\n",
    "    while i * i <= n:\n",
    "        if n % i == 0 or n % (i + 2) == 0:\n",
    "            return False\n",
    "        i += 6\n",
    "    return True\n",
    "\n",
    "def print_primes_up_to(max_num):\n",
    "    for num in range(1, max_num + 1):\n",
    "        if is_prime(num):\n",
    "            print(num, end=' ')\n",
    "\n",
    "print_primes_up_to(10000)\n"
   ]
  },
  {
   "cell_type": "markdown",
   "id": "fc61799b-55ed-4fe4-a3c1-b7e00dcfa721",
   "metadata": {},
   "source": [
    "#### Task 6: Write a code that prints on screen all the 4-digit Armstrong numbers.\n",
    "\n"
   ]
  },
  {
   "cell_type": "code",
   "execution_count": 7,
   "id": "682de505-6f65-4c39-af51-292d9b21e47f",
   "metadata": {},
   "outputs": [
    {
     "name": "stdout",
     "output_type": "stream",
     "text": [
      "1634 8208 9474 "
     ]
    }
   ],
   "source": [
    "def is_armstrong(num):\n",
    "    digits = [int(digit) for digit in str(num)]\n",
    "    return num == sum(digit ** 4 for digit in digits)\n",
    "\n",
    "for num in range(1000, 10000):\n",
    "    if is_armstrong(num):\n",
    "        print(num, end=' ')\n"
   ]
  },
  {
   "cell_type": "markdown",
   "id": "c2a83e96-3adb-4c16-aa0a-32ca218bcffc",
   "metadata": {},
   "source": [
    "#### Task 7: Write a program that outputs 100 lines, numbered 1 to 100, each with your name on it. The output should look like the output below:"
   ]
  },
  {
   "cell_type": "code",
   "execution_count": 8,
   "id": "4439d723-0008-4b40-a52a-c41f59a382b9",
   "metadata": {},
   "outputs": [
    {
     "name": "stdout",
     "output_type": "stream",
     "text": [
      "1: Your Name\n",
      "2: Your Name\n",
      "3: Your Name\n",
      "4: Your Name\n",
      "5: Your Name\n",
      "6: Your Name\n",
      "7: Your Name\n",
      "8: Your Name\n",
      "9: Your Name\n",
      "10: Your Name\n",
      "11: Your Name\n",
      "12: Your Name\n",
      "13: Your Name\n",
      "14: Your Name\n",
      "15: Your Name\n",
      "16: Your Name\n",
      "17: Your Name\n",
      "18: Your Name\n",
      "19: Your Name\n",
      "20: Your Name\n",
      "21: Your Name\n",
      "22: Your Name\n",
      "23: Your Name\n",
      "24: Your Name\n",
      "25: Your Name\n",
      "26: Your Name\n",
      "27: Your Name\n",
      "28: Your Name\n",
      "29: Your Name\n",
      "30: Your Name\n",
      "31: Your Name\n",
      "32: Your Name\n",
      "33: Your Name\n",
      "34: Your Name\n",
      "35: Your Name\n",
      "36: Your Name\n",
      "37: Your Name\n",
      "38: Your Name\n",
      "39: Your Name\n",
      "40: Your Name\n",
      "41: Your Name\n",
      "42: Your Name\n",
      "43: Your Name\n",
      "44: Your Name\n",
      "45: Your Name\n",
      "46: Your Name\n",
      "47: Your Name\n",
      "48: Your Name\n",
      "49: Your Name\n",
      "50: Your Name\n",
      "51: Your Name\n",
      "52: Your Name\n",
      "53: Your Name\n",
      "54: Your Name\n",
      "55: Your Name\n",
      "56: Your Name\n",
      "57: Your Name\n",
      "58: Your Name\n",
      "59: Your Name\n",
      "60: Your Name\n",
      "61: Your Name\n",
      "62: Your Name\n",
      "63: Your Name\n",
      "64: Your Name\n",
      "65: Your Name\n",
      "66: Your Name\n",
      "67: Your Name\n",
      "68: Your Name\n",
      "69: Your Name\n",
      "70: Your Name\n",
      "71: Your Name\n",
      "72: Your Name\n",
      "73: Your Name\n",
      "74: Your Name\n",
      "75: Your Name\n",
      "76: Your Name\n",
      "77: Your Name\n",
      "78: Your Name\n",
      "79: Your Name\n",
      "80: Your Name\n",
      "81: Your Name\n",
      "82: Your Name\n",
      "83: Your Name\n",
      "84: Your Name\n",
      "85: Your Name\n",
      "86: Your Name\n",
      "87: Your Name\n",
      "88: Your Name\n",
      "89: Your Name\n",
      "90: Your Name\n",
      "91: Your Name\n",
      "92: Your Name\n",
      "93: Your Name\n",
      "94: Your Name\n",
      "95: Your Name\n",
      "96: Your Name\n",
      "97: Your Name\n",
      "98: Your Name\n",
      "99: Your Name\n",
      "100: Your Name\n"
     ]
    }
   ],
   "source": [
    "name = \"Your Name\"\n",
    "\n",
    "for i in range(1, 101):\n",
    "    print(f\"{i}: {name}\")\n"
   ]
  },
  {
   "cell_type": "markdown",
   "id": "b60aed18-adf9-4562-a602-d3a7caed585c",
   "metadata": {},
   "source": [
    "#### Task 8: Write a program that prints out a list of the integers from 1 to 20 and their squares. The output should look like this:"
   ]
  },
  {
   "cell_type": "code",
   "execution_count": 10,
   "id": "d2cd6a73-5949-4457-8158-f211c08e18fc",
   "metadata": {},
   "outputs": [
    {
     "name": "stdout",
     "output_type": "stream",
     "text": [
      "Number\tSquare\n",
      "1\t1\n",
      "2\t4\n",
      "3\t9\n",
      "4\t16\n",
      "5\t25\n",
      "6\t36\n",
      "7\t49\n",
      "8\t64\n",
      "9\t81\n",
      "10\t100\n",
      "11\t121\n",
      "12\t144\n",
      "13\t169\n",
      "14\t196\n",
      "15\t225\n",
      "16\t256\n",
      "17\t289\n",
      "18\t324\n",
      "19\t361\n",
      "20\t400\n"
     ]
    }
   ],
   "source": [
    "print(\"Number\\tSquare\")\n",
    "\n",
    "for num in range(1, 21):\n",
    "    square = num ** 2 \n",
    "    print(f\"{num}\\t{square}\")  \n"
   ]
  },
  {
   "cell_type": "markdown",
   "id": "d2c12997-ba4a-4299-84f5-a708c60c8919",
   "metadata": {},
   "source": [
    "#### Task 9: Write a program that uses a for loop to print the numbers 8, 11, 14, 17, 20, . . . , 83, 86, 89."
   ]
  },
  {
   "cell_type": "code",
   "execution_count": 11,
   "id": "539301ae-3cd4-4e6c-bce0-93c19d9be9ff",
   "metadata": {},
   "outputs": [
    {
     "name": "stdout",
     "output_type": "stream",
     "text": [
      "8 11 14 17 20 23 26 29 32 35 38 41 44 47 50 53 56 59 62 65 68 71 74 77 80 83 86 89 "
     ]
    }
   ],
   "source": [
    "start = 8\n",
    "step = 3\n",
    "end = 89\n",
    "\n",
    "for num in range(start, end + 1, step):\n",
    "    print(num, end=' ')\n"
   ]
  },
  {
   "cell_type": "markdown",
   "id": "0db35080-1534-462e-8116-4140bb872584",
   "metadata": {},
   "source": [
    "#### Task 10: Write a program that asks the user for their name and how many times to print it. The program should print out the user’s name the specified number of times.\n",
    "\n"
   ]
  },
  {
   "cell_type": "code",
   "execution_count": 12,
   "id": "a52c0611-704f-41ca-bdf4-f627ead4439c",
   "metadata": {},
   "outputs": [
    {
     "name": "stdin",
     "output_type": "stream",
     "text": [
      "Enter your name:  ali\n",
      "How many times would you like to print your name?  4\n"
     ]
    },
    {
     "name": "stdout",
     "output_type": "stream",
     "text": [
      "ali\n",
      "ali\n",
      "ali\n",
      "ali\n"
     ]
    }
   ],
   "source": [
    "name = input(\"Enter your name: \")\n",
    "\n",
    "times = int(input(\"How many times would you like to print your name? \"))\n",
    "\n",
    "for _ in range(times):\n",
    "    print(name)\n"
   ]
  },
  {
   "cell_type": "markdown",
   "id": "21dc48d7-f898-40e1-9325-27217169c2ee",
   "metadata": {},
   "source": [
    "#### Task 11: Use a for loop to print a box like the one below. Allow the user to specify how wide and how high the box should be."
   ]
  },
  {
   "cell_type": "code",
   "execution_count": 13,
   "id": "596e5040-8c87-4d77-975a-31671dc2e111",
   "metadata": {},
   "outputs": [
    {
     "name": "stdin",
     "output_type": "stream",
     "text": [
      "Enter the width of the box:  6\n",
      "Enter the height of the box:  6\n"
     ]
    },
    {
     "name": "stdout",
     "output_type": "stream",
     "text": [
      "******\n",
      "******\n",
      "******\n",
      "******\n",
      "******\n",
      "******\n"
     ]
    }
   ],
   "source": [
    "width = int(input(\"Enter the width of the box: \"))\n",
    "height = int(input(\"Enter the height of the box: \"))\n",
    "\n",
    "for _ in range(height):\n",
    "    print('*' * width)\n"
   ]
  },
  {
   "cell_type": "markdown",
   "id": "22d1bd8e-08f0-4945-9fae-caaaaf7341c7",
   "metadata": {},
   "source": [
    "\n",
    "#### Task 12: Use a for loop to print a triangle like the one below. Allow the user to specify how high the triangle should be.\n"
   ]
  },
  {
   "cell_type": "code",
   "execution_count": 14,
   "id": "fa3a8346-ce6b-4023-b221-62dd22afcb73",
   "metadata": {},
   "outputs": [
    {
     "name": "stdin",
     "output_type": "stream",
     "text": [
      "Enter the height of the triangle:  5\n"
     ]
    },
    {
     "name": "stdout",
     "output_type": "stream",
     "text": [
      "*\n",
      "**\n",
      "***\n",
      "****\n",
      "*****\n"
     ]
    }
   ],
   "source": [
    "height = int(input(\"Enter the height of the triangle: \"))\n",
    "\n",
    "for i in range(1, height + 1):\n",
    "    print('*' * i)\n"
   ]
  },
  {
   "cell_type": "markdown",
   "id": "bb81f0e1-af20-4135-a27a-fff2dbc7e260",
   "metadata": {},
   "source": [
    "#### Task 13: Use for loops to print a diamond like the one below. Allow the user to specify how high the diamond should be.\n"
   ]
  },
  {
   "cell_type": "code",
   "execution_count": 15,
   "id": "e5c8702d-3920-43ef-96b5-084a6fde7978",
   "metadata": {},
   "outputs": [
    {
     "name": "stdin",
     "output_type": "stream",
     "text": [
      "Enter the height of the diamond (odd number):  7\n"
     ]
    },
    {
     "name": "stdout",
     "output_type": "stream",
     "text": [
      "   *\n",
      "  ***\n",
      " *****\n",
      "*******\n",
      " *****\n",
      "  ***\n",
      "   *\n"
     ]
    }
   ],
   "source": [
    "height = int(input(\"Enter the height of the diamond (odd number): \"))\n",
    "\n",
    "if height % 2 == 0:\n",
    "    print(\"Height must be an odd number.\")\n",
    "else:\n",
    "    for i in range(1, height + 1, 2):\n",
    "        print(' ' * ((height - i) // 2) + '*' * i)\n",
    "\n",
    "    for i in range(height - 2, 0, -2):\n",
    "        print(' ' * ((height - i) // 2) + '*' * i)\n"
   ]
  },
  {
   "cell_type": "markdown",
   "id": "97cb4121-e356-42f8-a9af-71d1c1549540",
   "metadata": {},
   "source": [
    "\n",
    "#### Task 14: Write a program that prints a giant letter A like the one below. Allow the user to specify how large the letter should be.\n"
   ]
  },
  {
   "cell_type": "code",
   "execution_count": null,
   "id": "90dff844-8474-40b1-9e37-909e30047d94",
   "metadata": {},
   "outputs": [],
   "source": []
  }
 ],
 "metadata": {
  "kernelspec": {
   "display_name": "Python 3 (ipykernel)",
   "language": "python",
   "name": "python3"
  },
  "language_info": {
   "codemirror_mode": {
    "name": "ipython",
    "version": 3
   },
   "file_extension": ".py",
   "mimetype": "text/x-python",
   "name": "python",
   "nbconvert_exporter": "python",
   "pygments_lexer": "ipython3",
   "version": "3.12.4"
  }
 },
 "nbformat": 4,
 "nbformat_minor": 5
}
